{
 "cells": [
  {
   "cell_type": "code",
   "execution_count": 1,
   "metadata": {},
   "outputs": [],
   "source": [
    "# 外部ライブラリのインポート\n",
    "import numpy as np\n",
    "\n",
    "# 自作パッケージのインポート\n",
    "from libs.Horcher_model import Horcher_model"
   ]
  },
  {
   "cell_type": "code",
   "execution_count": 53,
   "metadata": {},
   "outputs": [],
   "source": [
    "# モデルの定義\n",
    "model = Horcher_model(2,2)\n",
    "# 外生変数の設定\n",
    "exog = {\n",
    "    't_ij': np.array([\n",
    "        [45, 75],\n",
    "        [75, 30]\n",
    "    ])/(60*24),\n",
    "    'tau_ij': np.array([\n",
    "        [0.006, 0.010],\n",
    "        [0.010, 0.005]\n",
    "    ]),\n",
    "    'p_i': np.array([1.0, 1.0]), \n",
    "    'L_i': np.array([50, 50])\n",
    "}\n",
    "# パラメータの設定\n",
    "param = {    \n",
    "    'alpha': 0.80,\n",
    "    'beta':  0.75,\n",
    "    'gamma': 9/24,\n",
    "    'psi':   0.25,\n",
    "    'L':     1,\n",
    "    'T':     8/24,\n",
    "    'N':     100\n",
    "}\n",
    "# 基準均衡時の内生変数の設定\n",
    "ref = {\n",
    "    'lambda_ij': np.array([\n",
    "        [0.25, 0.30],\n",
    "        [0.05, 0.40]\n",
    "    ]),\n",
    "    'q_i':   np.array([0.90, 1.1]),\n",
    "    'Q_j':   np.array([1.5, 1.5]),\n",
    "    'w_j':   np.array([0.95, 1.05])\n",
    "}"
   ]
  },
  {
   "cell_type": "code",
   "execution_count": 54,
   "metadata": {},
   "outputs": [
    {
     "name": "stdout",
     "output_type": "stream",
     "text": [
      "p_i array has been stored.\n",
      "L_i array has been stored.\n",
      "tau_ij array has been stored.\n",
      "t_ij array has been stored.\n"
     ]
    }
   ],
   "source": [
    "# 1.外生変数の入力\n",
    "model.set_exog(exog)"
   ]
  },
  {
   "cell_type": "code",
   "execution_count": 55,
   "metadata": {},
   "outputs": [],
   "source": [
    "# 2.パラメータの入力\n",
    "model.set_param(param)"
   ]
  },
  {
   "cell_type": "code",
   "execution_count": 56,
   "metadata": {},
   "outputs": [
    {
     "name": "stdout",
     "output_type": "stream",
     "text": [
      "q_i array has been stored.\n",
      "Q_j array has been stored.\n",
      "w_j array has been stored.\n",
      "lambda_ij array has been stored.\n",
      "### Check the setting of reference variables ###\n",
      "N_R_i: 居住人口\n",
      "[55. 45.]\n",
      "N_W_j: 就業人口\n",
      "[30. 70.]\n",
      "M_R_i: 労働供給\n",
      "[54.9034749  47.21780604]\n",
      "M_W_j: 労働需要\n",
      "[30.57915058 71.54213037]\n",
      "v_ij: 時間価値\n",
      "[[2.58925714 2.69837838]\n",
      " [2.43891892 2.95058824]]\n",
      "C_ij: 一人当たり基本財消費量\n",
      "[[0.72822857 0.75891892]\n",
      " [0.68594595 0.82985294]]\n",
      "H_R_ij: 一人当たり居住地面積\n",
      "[[0.26971429 0.28108108]\n",
      " [0.20786241 0.25147059]]\n",
      "H_R_i: 居住地面積\n",
      "[15.17528958 11.09813557]\n",
      "################################################\n"
     ]
    }
   ],
   "source": [
    "# 3.基準均衡時の内生変数の入力\n",
    "model.set_ref(ref)"
   ]
  },
  {
   "cell_type": "code",
   "execution_count": 57,
   "metadata": {},
   "outputs": [
    {
     "name": "stdout",
     "output_type": "stream",
     "text": [
      "### Check the regression result ###\n",
      "                            OLS Regression Results                            \n",
      "==============================================================================\n",
      "Dep. Variable:                      y   R-squared:                       0.958\n",
      "Model:                            OLS   Adj. R-squared:                  0.937\n",
      "Method:                 Least Squares   F-statistic:                     45.36\n",
      "Date:                Thu, 11 Jul 2024   Prob (F-statistic):             0.0213\n",
      "Time:                        19:31:14   Log-Likelihood:                 1.5034\n",
      "No. Observations:                   4   AIC:                            0.9931\n",
      "Df Residuals:                       2   BIC:                           -0.2343\n",
      "Df Model:                           1                                         \n",
      "Covariance Type:            nonrobust                                         \n",
      "==============================================================================\n",
      "                 coef    std err          t      P>|t|      [0.025      0.975]\n",
      "------------------------------------------------------------------------------\n",
      "const        -12.5351      1.624     -7.719      0.016     -19.523      -5.548\n",
      "x1            11.1247      1.652      6.735      0.021       4.018      18.231\n",
      "==============================================================================\n",
      "Omnibus:                          nan   Durbin-Watson:                   0.816\n",
      "Prob(Omnibus):                    nan   Jarque-Bera (JB):                0.605\n",
      "Skew:                           0.820   Prob(JB):                        0.739\n",
      "Kurtosis:                       2.031   Cond. No.                         27.6\n",
      "==============================================================================\n",
      "\n",
      "Notes:\n",
      "[1] Standard Errors assume that the covariance matrix of the errors is correctly specified.\n",
      "Estimated epsilon is  29.665984533620534\n",
      "Standard error is  1.651703004746967\n",
      "T-value is  6.735317528717554\n",
      "R-squared is  0.9577742843993018\n",
      "x: [0.97771115 1.01899112 0.86772733 1.05817701]\n",
      "y: [-1.38629436 -1.2039728  -2.99573227 -0.91629073]\n"
     ]
    },
    {
     "name": "stderr",
     "output_type": "stream",
     "text": [
      "/Users/nagampere/File/horkew/.venv/lib/python3.11/site-packages/statsmodels/stats/stattools.py:74: ValueWarning: omni_normtest is not valid with less than 8 observations; 4 samples were given.\n",
      "  warn(\"omni_normtest is not valid with less than 8 observations; %i \"\n"
     ]
    },
    {
     "data": {
      "image/png": "[encoded data removed]",
      "text/plain": [
       "<Figure size 800x600 with 1 Axes>"
      ]
     },
     "metadata": {},
     "output_type": "display_data"
    },
    {
     "name": "stdout",
     "output_type": "stream",
     "text": [
      "###################################\n"
     ]
    }
   ],
   "source": [
    "# 4.フレシェ分布のパラメータ-𝜖の推定\n",
    "model.estimate_epsilon('OLS')"
   ]
  },
  {
   "cell_type": "code",
   "execution_count": 58,
   "metadata": {},
   "outputs": [
    {
     "name": "stdout",
     "output_type": "stream",
     "text": [
      " message: Optimization terminated successfully\n",
      " success: True\n",
      "  status: 0\n",
      "     fun: 0.00018517904524770358\n",
      "       x: [ 1.325e+00  6.459e-01  8.513e-01  1.157e+00]\n",
      "     nit: 6\n",
      "     jac: [ 3.858e-04 -7.944e-04  2.189e-04 -1.611e-04]\n",
      "    nfev: 31\n",
      "    njev: 6\n",
      "### Check the estimation result ###\n",
      "utility\n",
      "[[ 52933.22018013  47949.94931291]\n",
      " [ 27210.19837528 129566.36823209]]\n",
      "XE\n",
      "[[1.1282647  1.53298808]\n",
      " [0.54983955 0.74707422]]\n",
      "λ_ij\n",
      "[[0.24377967 0.3000441 ]\n",
      " [0.06106971 0.39510652]]\n",
      "Σλ_ij\n",
      "0.9999999999999999\n",
      "###################################\n",
      "### Check the estimated variables ###\n",
      "A_j: 就業地の生産レベル\n",
      "[1.7167978  1.85990903]\n",
      "xi_i: 地域iにおける商業地の相対地価\n",
      "[1.66666667 1.36363636]\n",
      "H_W_j: 商業地面積\n",
      "[ 4.84169884 12.51987281]\n",
      "H_i: 床面積\n",
      "[20.01698842 23.61800838]\n",
      "q_ave_i:  居住地の平均価格\n",
      "[1.04512769 1.31203943]\n",
      "φ_i: 土地賦存量に対する床面積の割合\n",
      "[0.83125999 0.49573412]\n",
      "H_ave_i: 床面積の最大量\n",
      "[118.62621598  46.83641992]\n",
      "#####################################\n"
     ]
    }
   ],
   "source": [
    "# 5.基準均衡時の内生変数をもとに、外生変数の推定\n",
    "model.recover_fundamentals()"
   ]
  },
  {
   "cell_type": "code",
   "execution_count": 41,
   "metadata": {},
   "outputs": [],
   "source": [
    "# 6.外生変数の再入力\n",
    "new_exog = {\n",
    "    't_ij': np.array([\n",
    "        [45, 60],\n",
    "        [60, 15]\n",
    "    ])/(60*24),\n",
    "    'tau_ij': np.array([\n",
    "        [0.006, 0.009],\n",
    "        [0.009, 0.004]\n",
    "    ])\n",
    "}\n",
    "model.change_exog(new_exog)"
   ]
  },
  {
   "cell_type": "code",
   "execution_count": 42,
   "metadata": {},
   "outputs": [
    {
     "name": "stdout",
     "output_type": "stream",
     "text": [
      "### Check the result of equilibrium ###\n",
      " message: The solution converged.\n",
      " success: True\n",
      "  status: 1\n",
      "     fun: [-2.694e-11 -8.146e-12]\n",
      "       x: [ 9.529e-01  1.043e+00]\n",
      "  method: hybr\n",
      "    nfev: 13\n",
      "    fjac: [[-9.595e-01  2.816e-01]\n",
      "           [-2.816e-01 -9.595e-01]]\n",
      "       r: [-4.207e+02  1.331e+02 -2.954e+02]\n",
      "     qtf: [ 5.616e-08  3.640e-08]\n",
      "w_j: 賃金率\n",
      "[0.95293094 1.04281684]\n",
      "#######################################\n",
      "### Check the endogenous variables ###\n",
      "λ_ij: 通勤割合\n",
      "[[0.26550512 0.30050508]\n",
      " [0.0839439  0.3500459 ]]\n",
      "q_i: 居住用地価\n",
      "[0.88897842 1.1306228 ]\n",
      "Q_j: 業務用地価\n",
      "[1.4816307  1.54175836]\n",
      "N_R_i: 居住人口\n",
      "[56.60102072 43.39897928]\n",
      "N_W_j: 勤務人口\n",
      "[34.94490189 65.05509811]\n",
      "M_R_i: 労働供給量\n",
      "[57.35960678 46.58121471]\n",
      "M_W_j: 労働需要量\n",
      "[35.70348796 68.23733354]\n",
      "H_R_i: 居住地面積\n",
      "[16.00898022 10.52358958]\n",
      "H_W_j: 商業地面積\n",
      "[ 5.74079598 11.53861762]\n",
      "H_i: 床面積\n",
      "[21.74977621 22.0622072 ]\n",
      "#####################################\n"
     ]
    }
   ],
   "source": [
    "# 7.新しい外生変数による一般均衡分析と, 内生変数の導出\n",
    "model.solve_equilibrium('root', 'hybr')"
   ]
  },
  {
   "cell_type": "code",
   "execution_count": null,
   "metadata": {},
   "outputs": [],
   "source": []
  }
 ],
 "metadata": {
  "kernelspec": {
   "display_name": ".venv",
   "language": "python",
   "name": "python3"
  },
  "language_info": {
   "codemirror_mode": {
    "name": "ipython",
    "version": 3
   },
   "file_extension": ".py",
   "mimetype": "text/x-python",
   "name": "python",
   "nbconvert_exporter": "python",
   "pygments_lexer": "ipython3",
   "version": "3.11.3"
  }
 },
 "nbformat": 4,
 "nbformat_minor": 2
}
