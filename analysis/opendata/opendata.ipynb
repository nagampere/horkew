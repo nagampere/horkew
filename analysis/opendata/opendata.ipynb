{
 "cells": [
  {
   "cell_type": "code",
   "execution_count": 2,
   "metadata": {},
   "outputs": [],
   "source": [
    "import polars as pl"
   ]
  },
  {
   "cell_type": "code",
   "execution_count": 3,
   "metadata": {},
   "outputs": [
    {
     "data": {
      "text/html": [
       "<div><style>\n",
       ".dataframe > thead > tr,\n",
       ".dataframe > tbody > tr {\n",
       "  text-align: right;\n",
       "  white-space: pre-wrap;\n",
       "}\n",
       "</style>\n",
       "<small>shape: (196_789, 10)</small><table border=\"1\" class=\"dataframe\"><thead><tr><th>oid</th><th>title</th><th>wkt</th><th>h3</th><th>address</th><th>wkt.longitude</th><th>wkt.latitude</th><th>basetype</th><th>type</th><th>operator.title</th></tr><tr><td>str</td><td>str</td><td>str</td><td>str</td><td>struct[4]</td><td>f64</td><td>f64</td><td>str</td><td>str</td><td>str</td></tr></thead><tbody><tr><td>&quot;484870&quot;</td><td>&quot;ヲヲゾリ&quot;</td><td>&quot;POINT (137.486…</td><td>&quot;8a2e6631872fff…</td><td>{&quot;豊田市&quot;,&quot;Japan&quot;,&quot;川手町&quot;,&quot;愛知県&quot;}</td><td>137.486388</td><td>35.24716</td><td>&quot;Node&quot;</td><td>&quot;Bus&quot;</td><td>&quot;愛知県豊田市&quot;</td></tr><tr><td>&quot;708201&quot;</td><td>&quot;アークス入口&quot;</td><td>&quot;POINT (138.200…</td><td>&quot;8a2e75455a0fff…</td><td>{&quot;長野市&quot;,&quot;Japan&quot;,&quot;大字川合新田&quot;,&quot;長野県&quot;}</td><td>138.200241</td><td>36.624579</td><td>&quot;Node&quot;</td><td>&quot;Bus&quot;</td><td>&quot;アルピコ交通長野&quot;</td></tr><tr><td>&quot;655171&quot;</td><td>&quot;アークス長都店&quot;</td><td>&quot;POINT (141.625…</td><td>&quot;8a2e1bc2b017ff…</td><td>{&quot;千歳市&quot;,&quot;Japan&quot;,&quot;長都駅前四丁目&quot;,&quot;北海道&quot;}</td><td>141.625644</td><td>42.854408</td><td>&quot;Node&quot;</td><td>&quot;Bus&quot;</td><td>&quot;北海道中央バス&quot;</td></tr><tr><td>&quot;649533&quot;</td><td>&quot;アークス千歳店&quot;</td><td>&quot;POINT (141.668…</td><td>&quot;8a2e1bc2c547ff…</td><td>{&quot;千歳市&quot;,&quot;Japan&quot;,&quot;青葉六丁目&quot;,&quot;北海道&quot;}</td><td>141.668777</td><td>42.826626</td><td>&quot;Node&quot;</td><td>&quot;Bus&quot;</td><td>&quot;北海道中央バス&quot;</td></tr><tr><td>&quot;945300&quot;</td><td>&quot;アークス鳥取店&quot;</td><td>&quot;POINT (144.360…</td><td>&quot;8a2e13669d47ff…</td><td>{&quot;釧路市&quot;,&quot;Japan&quot;,&quot;鳥取大通二丁目&quot;,&quot;北海道&quot;}</td><td>144.360899</td><td>43.011386</td><td>&quot;Node&quot;</td><td>&quot;Bus&quot;</td><td>&quot;くしろバス&quot;</td></tr><tr><td>&quot;1053251&quot;</td><td>&quot;アークス前&quot;</td><td>&quot;POINT (141.625…</td><td>&quot;8a2e1bc2b017ff…</td><td>{&quot;千歳市&quot;,&quot;Japan&quot;,&quot;勇舞八丁目&quot;,&quot;北海道&quot;}</td><td>141.625661</td><td>42.854275</td><td>&quot;Node&quot;</td><td>&quot;Bus&quot;</td><td>&quot;千歳相互観光バス&quot;</td></tr><tr><td>&quot;1199575&quot;</td><td>&quot;アーケード東&quot;</td><td>&quot;POINT (132.934…</td><td>&quot;8a4b61555dafff…</td><td>{&quot;四万十市&quot;,&quot;Japan&quot;,&quot;中村一条通一丁目&quot;,&quot;高知県&quot;}</td><td>132.934722</td><td>32.992883</td><td>&quot;Node&quot;</td><td>&quot;Bus&quot;</td><td>&quot;高知県四万十市&quot;</td></tr><tr><td>&quot;147012&quot;</td><td>&quot;アーケード名店街&quot;</td><td>&quot;POINT (138.857…</td><td>&quot;8a2f5bb0556fff…</td><td>{&quot;沼津市&quot;,&quot;Japan&quot;,&quot;町方町&quot;,&quot;静岡県&quot;}</td><td>138.857176</td><td>35.097743</td><td>&quot;Node&quot;</td><td>&quot;Bus&quot;</td><td>&quot;伊豆箱根バス&quot;</td></tr><tr><td>&quot;256001&quot;</td><td>&quot;アース製薬前&quot;</td><td>&quot;POINT (134.425…</td><td>&quot;8a2e6c63272fff…</td><td>{&quot;赤穂市&quot;,&quot;Japan&quot;,&quot;坂越&quot;,&quot;兵庫県&quot;}</td><td>134.425746</td><td>34.754179</td><td>&quot;Node&quot;</td><td>&quot;Bus&quot;</td><td>&quot;神姫バス&quot;</td></tr><tr><td>&quot;806402&quot;</td><td>&quot;アース製薬前&quot;</td><td>&quot;POINT (134.425…</td><td>&quot;8a2e6c63272fff…</td><td>{&quot;赤穂市&quot;,&quot;Japan&quot;,&quot;坂越&quot;,&quot;兵庫県&quot;}</td><td>134.425424</td><td>34.75384</td><td>&quot;Node&quot;</td><td>&quot;Bus&quot;</td><td>&quot;兵庫県赤穂市&quot;</td></tr><tr><td>&quot;1105007&quot;</td><td>&quot;アーツ千代田３３３１&quot;</td><td>&quot;POINT (139.771…</td><td>&quot;8a2f5a328847ff…</td><td>{&quot;千代田区&quot;,&quot;Japan&quot;,&quot;外神田六丁目&quot;,&quot;東京都&quot;}</td><td>139.771702</td><td>35.703885</td><td>&quot;Node&quot;</td><td>&quot;Bus&quot;</td><td>&quot;日立自動車交通&quot;</td></tr><tr><td>&quot;471731&quot;</td><td>&quot;アーティスト村&quot;</td><td>&quot;POINT (136.551…</td><td>&quot;8a2e626cdb5fff…</td><td>{&quot;能美市&quot;,&quot;Japan&quot;,&quot;湯屋町&quot;,&quot;石川県&quot;}</td><td>136.551631</td><td>36.439539</td><td>&quot;Node&quot;</td><td>&quot;Bus&quot;</td><td>&quot;石川県能美市&quot;</td></tr><tr><td>&hellip;</td><td>&hellip;</td><td>&hellip;</td><td>&hellip;</td><td>&hellip;</td><td>&hellip;</td><td>&hellip;</td><td>&hellip;</td><td>&hellip;</td><td>&hellip;</td></tr><tr><td>&quot;640610&quot;</td><td>&quot;ワンダーシティ前&quot;</td><td>&quot;POINT (130.714…</td><td>&quot;8a4b6611a35fff…</td><td>{&quot;熊本市中央区&quot;,&quot;Japan&quot;,&quot;九品寺六丁目&quot;,&quot;熊本県&quot;}</td><td>130.714131</td><td>32.787666</td><td>&quot;Node&quot;</td><td>&quot;Bus&quot;</td><td>&quot;熊本バス&quot;</td></tr><tr><td>&quot;1209509&quot;</td><td>&quot;ワンダーモール前&quot;</td><td>&quot;POINT (140.573…</td><td>&quot;8a2e08d5d80fff…</td><td>{&quot;仙北市&quot;,&quot;Japan&quot;,&quot;角館町&quot;,&quot;秋田県&quot;}</td><td>140.573882</td><td>39.593825</td><td>&quot;Node&quot;</td><td>&quot;Bus&quot;</td><td>&quot;秋田県仙北市&quot;</td></tr><tr><td>&quot;1216846&quot;</td><td>&quot;上台&quot;</td><td>&quot;POINT (141.418…</td><td>&quot;8a2e0c435307ff…</td><td>{&quot;遠野市&quot;,&quot;Japan&quot;,&quot;宮守町上鱒沢&quot;,&quot;岩手県&quot;}</td><td>141.418086</td><td>39.301621</td><td>&quot;Node&quot;</td><td>&quot;Bus&quot;</td><td>&quot;岩手県交通&quot;</td></tr><tr><td>&quot;1038503&quot;</td><td>&quot;和無田改善センター&quot;</td><td>&quot;POINT (136.515…</td><td>&quot;8a2e60048d6fff…</td><td>{&quot;四日市市&quot;,&quot;Japan&quot;,&quot;和無田町&quot;,&quot;三重県&quot;}</td><td>136.515049</td><td>34.939738</td><td>&quot;Node&quot;</td><td>&quot;Bus&quot;</td><td>&quot;三重交通&quot;</td></tr><tr><td>&quot;1038433&quot;</td><td>&quot;和無田東&quot;</td><td>&quot;POINT (136.516…</td><td>&quot;8a2e6004c6cfff…</td><td>{&quot;四日市市&quot;,&quot;Japan&quot;,&quot;和無田町&quot;,&quot;三重県&quot;}</td><td>136.516867</td><td>34.937805</td><td>&quot;Node&quot;</td><td>&quot;Bus&quot;</td><td>&quot;三重交通&quot;</td></tr><tr><td>&quot;943230&quot;</td><td>&quot;湾中組合前&quot;</td><td>&quot;POINT (145.496…</td><td>&quot;8a2eac9707a7ff…</td><td>{&quot;根室市&quot;,&quot;Japan&quot;,&quot;温根沼&quot;,&quot;北海道&quot;}</td><td>145.496584</td><td>43.271084</td><td>&quot;Node&quot;</td><td>&quot;Bus&quot;</td><td>&quot;根室交通&quot;</td></tr><tr><td>&quot;1262461&quot;</td><td>&quot;湾頭&quot;</td><td>&quot;POINT (133.482…</td><td>&quot;8a2e6d7914cfff…</td><td>{&quot;笠岡市&quot;,&quot;Japan&quot;,&quot;吉浜&quot;,&quot;岡山県&quot;}</td><td>133.482329</td><td>34.516219</td><td>&quot;Node&quot;</td><td>&quot;Bus&quot;</td><td>&quot;中国バス&quot;</td></tr><tr><td>&quot;617993&quot;</td><td>&quot;鰐洞&quot;</td><td>&quot;POINT (130.601…</td><td>&quot;8a4b66c494f7ff…</td><td>{&quot;熊本市西区&quot;,&quot;Japan&quot;,&quot;河内町河内&quot;,&quot;熊本県&quot;}</td><td>130.60173</td><td>32.810684</td><td>&quot;Node&quot;</td><td>&quot;Bus&quot;</td><td>&quot;九州産交バス&quot;</td></tr><tr><td>&quot;655250&quot;</td><td>&quot;ワンニセコ・リゾート・タワー…</td><td>&quot;POINT (140.623…</td><td>&quot;8a2e1b22ca5fff…</td><td>{&quot;ニセコ町&quot;,&quot;Japan&quot;,&quot;字ニセコ&quot;,&quot;北海道&quot;}</td><td>140.623972</td><td>42.847189</td><td>&quot;Node&quot;</td><td>&quot;Bus&quot;</td><td>&quot;北海道中央バス&quot;</td></tr><tr><td>&quot;64431&quot;</td><td>&quot;わんぱく公園&quot;</td><td>&quot;POINT (139.916…</td><td>&quot;8a2f5a3b559fff…</td><td>{&quot;流山市&quot;,&quot;Japan&quot;,&quot;東初石一丁目&quot;,&quot;千葉県&quot;}</td><td>139.916162</td><td>35.891704</td><td>&quot;Node&quot;</td><td>&quot;Bus&quot;</td><td>&quot;京成バス&quot;</td></tr><tr><td>&quot;848037&quot;</td><td>&quot;わんぱく公園前&quot;</td><td>&quot;POINT (131.599…</td><td>&quot;8a4b60d65337ff…</td><td>{&quot;大分市&quot;,&quot;Japan&quot;,&quot;大字光吉&quot;,&quot;大分県&quot;}</td><td>131.599128</td><td>33.189945</td><td>&quot;Node&quot;</td><td>&quot;Bus&quot;</td><td>&quot;大分バス&quot;</td></tr><tr><td>&quot;502669&quot;</td><td>&quot;わんぱく谷&quot;</td><td>&quot;POINT (140.749…</td><td>&quot;8a2e29cea357ff…</td><td>{&quot;いわき市&quot;,&quot;Japan&quot;,&quot;南台三丁目&quot;,&quot;福島県&quot;}</td><td>140.74962</td><td>36.934957</td><td>&quot;Node&quot;</td><td>&quot;Bus&quot;</td><td>&quot;新常磐交通&quot;</td></tr></tbody></table></div>"
      ],
      "text/plain": [
       "shape: (196_789, 10)\n",
       "┌────────┬─────────────┬─────────────┬─────────────┬───┬────────────┬──────────┬──────┬────────────┐\n",
       "│ oid    ┆ title       ┆ wkt         ┆ h3          ┆ … ┆ wkt.latitu ┆ basetype ┆ type ┆ operator.t │\n",
       "│ ---    ┆ ---         ┆ ---         ┆ ---         ┆   ┆ de         ┆ ---      ┆ ---  ┆ itle       │\n",
       "│ str    ┆ str         ┆ str         ┆ str         ┆   ┆ ---        ┆ str      ┆ str  ┆ ---        │\n",
       "│        ┆             ┆             ┆             ┆   ┆ f64        ┆          ┆      ┆ str        │\n",
       "╞════════╪═════════════╪═════════════╪═════════════╪═══╪════════════╪══════════╪══════╪════════════╡\n",
       "│ 484870 ┆ ヲヲゾリ    ┆ POINT       ┆ 8a2e6631872 ┆ … ┆ 35.24716   ┆ Node     ┆ Bus  ┆ 愛知県豊田 │\n",
       "│        ┆             ┆ (137.486388 ┆ ffff        ┆   ┆            ┆          ┆      ┆ 市         │\n",
       "│        ┆             ┆ 35.24716)   ┆             ┆   ┆            ┆          ┆      ┆            │\n",
       "│ 708201 ┆ アークス入  ┆ POINT       ┆ 8a2e75455a0 ┆ … ┆ 36.624579  ┆ Node     ┆ Bus  ┆ アルピコ交 │\n",
       "│        ┆ 口          ┆ (138.200241 ┆ ffff        ┆   ┆            ┆          ┆      ┆ 通長野     │\n",
       "│        ┆             ┆ 36.624579)  ┆             ┆   ┆            ┆          ┆      ┆            │\n",
       "│ 655171 ┆ アークス長  ┆ POINT       ┆ 8a2e1bc2b01 ┆ … ┆ 42.854408  ┆ Node     ┆ Bus  ┆ 北海道中央 │\n",
       "│        ┆ 都店        ┆ (141.625644 ┆ 7fff        ┆   ┆            ┆          ┆      ┆ バス       │\n",
       "│        ┆             ┆ 42.854408)  ┆             ┆   ┆            ┆          ┆      ┆            │\n",
       "│ 649533 ┆ アークス千  ┆ POINT       ┆ 8a2e1bc2c54 ┆ … ┆ 42.826626  ┆ Node     ┆ Bus  ┆ 北海道中央 │\n",
       "│        ┆ 歳店        ┆ (141.668777 ┆ 7fff        ┆   ┆            ┆          ┆      ┆ バス       │\n",
       "│        ┆             ┆ 42.826626)  ┆             ┆   ┆            ┆          ┆      ┆            │\n",
       "│ 945300 ┆ アークス鳥  ┆ POINT       ┆ 8a2e13669d4 ┆ … ┆ 43.011386  ┆ Node     ┆ Bus  ┆ くしろバス │\n",
       "│        ┆ 取店        ┆ (144.360899 ┆ 7fff        ┆   ┆            ┆          ┆      ┆            │\n",
       "│        ┆             ┆ 43.011386)  ┆             ┆   ┆            ┆          ┆      ┆            │\n",
       "│ …      ┆ …           ┆ …           ┆ …           ┆ … ┆ …          ┆ …        ┆ …    ┆ …          │\n",
       "│ 617993 ┆ 鰐洞        ┆ POINT       ┆ 8a4b66c494f ┆ … ┆ 32.810684  ┆ Node     ┆ Bus  ┆ 九州産交バ │\n",
       "│        ┆             ┆ (130.60173  ┆ 7fff        ┆   ┆            ┆          ┆      ┆ ス         │\n",
       "│        ┆             ┆ 32.810684)  ┆             ┆   ┆            ┆          ┆      ┆            │\n",
       "│ 655250 ┆ ワンニセコ  ┆ POINT       ┆ 8a2e1b22ca5 ┆ … ┆ 42.847189  ┆ Node     ┆ Bus  ┆ 北海道中央 │\n",
       "│        ┆ ・リゾート  ┆ (140.623972 ┆ ffff        ┆   ┆            ┆          ┆      ┆ バス       │\n",
       "│        ┆ ・タワーズ  ┆ 42.847189)  ┆             ┆   ┆            ┆          ┆      ┆            │\n",
       "│ 64431  ┆ わんぱく公  ┆ POINT       ┆ 8a2f5a3b559 ┆ … ┆ 35.891704  ┆ Node     ┆ Bus  ┆ 京成バス   │\n",
       "│        ┆ 園          ┆ (139.916162 ┆ ffff        ┆   ┆            ┆          ┆      ┆            │\n",
       "│        ┆             ┆ 35.891704)  ┆             ┆   ┆            ┆          ┆      ┆            │\n",
       "│ 848037 ┆ わんぱく公  ┆ POINT       ┆ 8a4b60d6533 ┆ … ┆ 33.189945  ┆ Node     ┆ Bus  ┆ 大分バス   │\n",
       "│        ┆ 園前        ┆ (131.599128 ┆ 7fff        ┆   ┆            ┆          ┆      ┆            │\n",
       "│        ┆             ┆ 33.189945)  ┆             ┆   ┆            ┆          ┆      ┆            │\n",
       "│ 502669 ┆ わんぱく谷  ┆ POINT       ┆ 8a2e29cea35 ┆ … ┆ 36.934957  ┆ Node     ┆ Bus  ┆ 新常磐交通 │\n",
       "│        ┆             ┆ (140.74962  ┆ 7fff        ┆   ┆            ┆          ┆      ┆            │\n",
       "│        ┆             ┆ 36.934957)  ┆             ┆   ┆            ┆          ┆      ┆            │\n",
       "└────────┴─────────────┴─────────────┴─────────────┴───┴────────────┴──────────┴──────┴────────────┘"
      ]
     },
     "execution_count": 3,
     "metadata": {},
     "output_type": "execute_result"
    }
   ],
   "source": [
    "df = pl.read_parquet(\"/Users/nagampere/File/horkew/projects/opendata/sources/nodes.parquet\")\n",
    "df"
   ]
  },
  {
   "cell_type": "code",
   "execution_count": 7,
   "metadata": {},
   "outputs": [
    {
     "data": {
      "text/html": [
       "<div><style>\n",
       ".dataframe > thead > tr,\n",
       ".dataframe > tbody > tr {\n",
       "  text-align: right;\n",
       "  white-space: pre-wrap;\n",
       "}\n",
       "</style>\n",
       "<small>shape: (24, 3)</small><table border=\"1\" class=\"dataframe\"><thead><tr><th>hour</th><th>flow_rate</th><th>date</th></tr><tr><td>i32</td><td>f64</td><td>date</td></tr></thead><tbody><tr><td>12</td><td>0.058073</td><td>2021-10-01</td></tr><tr><td>22</td><td>0.022005</td><td>2021-10-01</td></tr><tr><td>1</td><td>0.006528</td><td>2021-10-01</td></tr><tr><td>13</td><td>0.056261</td><td>2021-10-01</td></tr><tr><td>6</td><td>0.031782</td><td>2021-10-01</td></tr><tr><td>16</td><td>0.065745</td><td>2021-10-01</td></tr><tr><td>3</td><td>0.004696</td><td>2021-10-01</td></tr><tr><td>20</td><td>0.041382</td><td>2021-10-01</td></tr><tr><td>5</td><td>0.011779</td><td>2021-10-01</td></tr><tr><td>19</td><td>0.057406</td><td>2021-10-01</td></tr><tr><td>15</td><td>0.059</td><td>2021-10-01</td></tr><tr><td>9</td><td>0.058212</td><td>2021-10-01</td></tr><tr><td>17</td><td>0.078467</td><td>2021-10-01</td></tr><tr><td>4</td><td>0.005944</td><td>2021-10-01</td></tr><tr><td>8</td><td>0.076647</td><td>2021-10-01</td></tr><tr><td>23</td><td>0.013541</td><td>2021-10-01</td></tr><tr><td>7</td><td>0.06795</td><td>2021-10-01</td></tr><tr><td>10</td><td>0.053859</td><td>2021-10-01</td></tr><tr><td>21</td><td>0.031145</td><td>2021-10-01</td></tr><tr><td>11</td><td>0.054797</td><td>2021-10-01</td></tr><tr><td>14</td><td>0.055365</td><td>2021-10-01</td></tr><tr><td>2</td><td>0.005145</td><td>2021-10-01</td></tr><tr><td>0</td><td>0.009886</td><td>2021-10-01</td></tr><tr><td>18</td><td>0.074384</td><td>2021-10-01</td></tr></tbody></table></div>"
      ],
      "text/plain": [
       "shape: (24, 3)\n",
       "┌──────┬───────────┬────────────┐\n",
       "│ hour ┆ flow_rate ┆ date       │\n",
       "│ ---  ┆ ---       ┆ ---        │\n",
       "│ i32  ┆ f64       ┆ date       │\n",
       "╞══════╪═══════════╪════════════╡\n",
       "│ 12   ┆ 0.058073  ┆ 2021-10-01 │\n",
       "│ 22   ┆ 0.022005  ┆ 2021-10-01 │\n",
       "│ 1    ┆ 0.006528  ┆ 2021-10-01 │\n",
       "│ 13   ┆ 0.056261  ┆ 2021-10-01 │\n",
       "│ 6    ┆ 0.031782  ┆ 2021-10-01 │\n",
       "│ …    ┆ …         ┆ …          │\n",
       "│ 11   ┆ 0.054797  ┆ 2021-10-01 │\n",
       "│ 14   ┆ 0.055365  ┆ 2021-10-01 │\n",
       "│ 2    ┆ 0.005145  ┆ 2021-10-01 │\n",
       "│ 0    ┆ 0.009886  ┆ 2021-10-01 │\n",
       "│ 18   ┆ 0.074384  ┆ 2021-10-01 │\n",
       "└──────┴───────────┴────────────┘"
      ]
     },
     "execution_count": 7,
     "metadata": {},
     "output_type": "execute_result"
    }
   ],
   "source": [
    "ratio = pl.read_parquet(\"/Users/nagampere/File/kohada/ods_generator/data/move_count_ratio_model/part-00000-tid-1659404942871397606-df129aeb-4cfe-4679-95d8-c53651007785-89-1.c000.snappy.parquet\")\n",
    "ratio"
   ]
  },
  {
   "cell_type": "code",
   "execution_count": null,
   "metadata": {},
   "outputs": [],
   "source": []
  }
 ],
 "metadata": {
  "kernelspec": {
   "display_name": ".venv",
   "language": "python",
   "name": "python3"
  },
  "language_info": {
   "codemirror_mode": {
    "name": "ipython",
    "version": 3
   },
   "file_extension": ".py",
   "mimetype": "text/x-python",
   "name": "python",
   "nbconvert_exporter": "python",
   "pygments_lexer": "ipython3",
   "version": "3.11.3"
  }
 },
 "nbformat": 4,
 "nbformat_minor": 2
}
