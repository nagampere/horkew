{
 "cells": [
  {
   "cell_type": "code",
   "execution_count": 54,
   "metadata": {},
   "outputs": [],
   "source": [
    "import numpy as np\n",
    "import scipy as sc"
   ]
  },
  {
   "cell_type": "code",
   "execution_count": 55,
   "metadata": {},
   "outputs": [],
   "source": [
    "# 円環型都市空間の設定\n",
    "\n",
    "# 都市数(2^n個)\n",
    "scale = 2\n",
    "size = 2**scale\n",
    "# 輸送抵抗\n",
    "phi = 0.5\n",
    "# 円環行列\n",
    "up = np.logspace(start=0,stop=int(size/2-1),num=int(0+size/2),base=phi)\n",
    "down = np.logspace(start=int(size/2),stop=1,num=int(0+size/2),base=phi)\n",
    "arr = np.concatenate([up,down])\n",
    "proximity = sc.linalg.circulant(arr)\n",
    "distance = 1/np.sum(arr)*proximity\n",
    "# 対象均衡\n",
    "dist_0 = np.full(size,1/size)"
   ]
  },
  {
   "cell_type": "code",
   "execution_count": 56,
   "metadata": {},
   "outputs": [
    {
     "data": {
      "text/plain": [
       "array([[0.44444444, 0.22222222, 0.11111111, 0.22222222],\n",
       "       [0.22222222, 0.44444444, 0.22222222, 0.11111111],\n",
       "       [0.11111111, 0.22222222, 0.44444444, 0.22222222],\n",
       "       [0.22222222, 0.11111111, 0.22222222, 0.44444444]])"
      ]
     },
     "execution_count": 56,
     "metadata": {},
     "output_type": "execute_result"
    }
   ],
   "source": [
    "distance"
   ]
  },
  {
   "cell_type": "code",
   "execution_count": 116,
   "metadata": {},
   "outputs": [],
   "source": [
    "alpha = 1\n",
    "theta = 0.5\n",
    "beta = 0.\n",
    "\n",
    "# 円環行列\n",
    "up = np.logspace(start=0,stop=int(size/2-1),num=int(0+size/2),base=theta)\n",
    "down = np.logspace(start=int(size/2),stop=1,num=int(0+size/2),base=theta)\n",
    "arr = np.concatenate([up,down])\n",
    "\n",
    "a = np.array([\n",
    "    [1-beta,1,1,1],\n",
    "    [1,0-beta,-1,0],\n",
    "    [1,-1,1-beta,-1],\n",
    "    [1,0,-1,0-beta]\n",
    "])"
   ]
  },
  {
   "cell_type": "code",
   "execution_count": 122,
   "metadata": {},
   "outputs": [
    {
     "data": {
      "text/plain": [
       "0.3333333333333333"
      ]
     },
     "execution_count": 122,
     "metadata": {},
     "output_type": "execute_result"
    }
   ],
   "source": [
    "(1-0.5)/(1+0.5)"
   ]
  },
  {
   "cell_type": "code",
   "execution_count": 123,
   "metadata": {},
   "outputs": [
    {
     "data": {
      "text/plain": [
       "0.17157287525380988"
      ]
     },
     "execution_count": 123,
     "metadata": {},
     "output_type": "execute_result"
    }
   ],
   "source": [
    "(1-0.5**0.5)/(1+0.5**0.5)"
   ]
  },
  {
   "cell_type": "code",
   "execution_count": 119,
   "metadata": {},
   "outputs": [
    {
     "data": {
      "text/plain": [
       "0.7071067811865476"
      ]
     },
     "execution_count": 119,
     "metadata": {},
     "output_type": "execute_result"
    }
   ],
   "source": [
    "(1-beta)**(1/2)"
   ]
  },
  {
   "cell_type": "code",
   "execution_count": 118,
   "metadata": {},
   "outputs": [
    {
     "data": {
      "text/plain": [
       "0.3333333333333333"
      ]
     },
     "execution_count": 118,
     "metadata": {},
     "output_type": "execute_result"
    }
   ],
   "source": [
    "(1-theta)/(1+theta)*alpha"
   ]
  },
  {
   "cell_type": "code",
   "execution_count": 120,
   "metadata": {},
   "outputs": [
    {
     "data": {
      "text/plain": [
       "array([0.77777778, 0.22222222, 0.05555556, 0.22222222])"
      ]
     },
     "execution_count": 120,
     "metadata": {},
     "output_type": "execute_result"
    }
   ],
   "source": [
    "1/np.sum(arr)*np.dot(a,arr)"
   ]
  },
  {
   "cell_type": "code",
   "execution_count": 62,
   "metadata": {},
   "outputs": [
    {
     "data": {
      "text/plain": [
       "array([1.  , 0.5 , 0.25, 0.5 ])"
      ]
     },
     "execution_count": 62,
     "metadata": {},
     "output_type": "execute_result"
    }
   ],
   "source": [
    "arr"
   ]
  },
  {
   "cell_type": "code",
   "execution_count": 10,
   "metadata": {},
   "outputs": [
    {
     "data": {
      "text/plain": [
       "array([   1.,   10.,  100., 1000.])"
      ]
     },
     "execution_count": 10,
     "metadata": {},
     "output_type": "execute_result"
    }
   ],
   "source": [
    "np.logspace(start=0,stop=3,num=(0+3+1),base=10)"
   ]
  },
  {
   "cell_type": "code",
   "execution_count": null,
   "metadata": {},
   "outputs": [],
   "source": []
  }
 ],
 "metadata": {
  "kernelspec": {
   "display_name": ".venv",
   "language": "python",
   "name": "python3"
  },
  "language_info": {
   "codemirror_mode": {
    "name": "ipython",
    "version": 3
   },
   "file_extension": ".py",
   "mimetype": "text/x-python",
   "name": "python",
   "nbconvert_exporter": "python",
   "pygments_lexer": "ipython3",
   "version": "3.11.3"
  }
 },
 "nbformat": 4,
 "nbformat_minor": 2
}
