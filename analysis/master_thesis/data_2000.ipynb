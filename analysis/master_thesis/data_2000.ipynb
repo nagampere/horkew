{
 "cells": [
  {
   "cell_type": "code",
   "execution_count": 1,
   "metadata": {},
   "outputs": [],
   "source": [
    "import pandas as pd\n",
    "import geopandas as gpd\n",
    "import numpy as np\n",
    "import requests"
   ]
  },
  {
   "cell_type": "markdown",
   "metadata": {},
   "source": [
    "# 対象地域情報の読み込み"
   ]
  },
  {
   "cell_type": "code",
   "execution_count": 2,
   "metadata": {},
   "outputs": [],
   "source": [
    "gdf_jcode = gpd.read_file('data/setup_2000_2020/jcode.geojson')\n",
    "df_jcode_2000 = pd.read_csv('data/2000/jcode_2000.csv', dtype={'jcode_from': str, 'jcode_to': str})\n",
    "list_jcode = df_jcode_2000['jcode_from'].to_list()\n",
    "list_jcode_to = list(set(df_jcode_2000['jcode_from'].to_list()))"
   ]
  },
  {
   "cell_type": "code",
   "execution_count": null,
   "metadata": {},
   "outputs": [],
   "source": [
    "df_jcode_2000"
   ]
  },
  {
   "cell_type": "markdown",
   "metadata": {},
   "source": [
    "# 地価情報の取得"
   ]
  },
  {
   "cell_type": "code",
   "execution_count": 4,
   "metadata": {},
   "outputs": [],
   "source": [
    "# pd.read_excel('https://www.mlit.go.jp/totikensangyo/content/001733704.xls')\n",
    "df_chika = pd.read_excel('sources/001733704.xls', sheet_name='価格推移表', header=0, skiprows=[1])\n",
    "nayose = pd.read_csv('sources/chika_nayose.csv')"
   ]
  },
  {
   "cell_type": "code",
   "execution_count": 5,
   "metadata": {},
   "outputs": [],
   "source": [
    "df_chika['Unnamed: 0'] = df_chika['Unnamed: 0'].astype(str)\n",
    "df_chika['level'] = df_chika['Unnamed: 0'].str[0:1]\n",
    "df_chika['jcode'] = df_chika['Unnamed: 0'].str[1:6]\n",
    "df_chika['type'] = df_chika['Unnamed: 0'].str[-2:]\n",
    "df_chika['name'] = df_chika['Unnamed: 1'].ffill()\n",
    "df_chika['分類'] = df_chika['Unnamed: 2']\n",
    "df_chika.loc[df_chika['jcode'] == \"14150\", \"jcode\"] = \"14209\" # 相模原市のjcodeを修正\n",
    "df_chika = df_chika.drop(columns=['Unnamed: 0', 'Unnamed: 1','Unnamed: 2'])\n",
    "df_chika = df_chika[[\n",
    "    'level',   'jcode',   'type',    'name',    '分類',\n",
    "    '昭和50年', '昭和51年', '昭和52年', '昭和53年', '昭和54年', '昭和55年', '昭和56年', '昭和57年',\n",
    "    '昭和58年', '昭和59年', '昭和60年', '昭和61年', '昭和62年', '昭和63年', '平成元年', '平成2年',\n",
    "    '平成3年',  '平成4年',  '平成5年',  '平成6年',  '平成7年',  '平成8年',  '平成9年',  '平成10年',\n",
    "    '平成11年', '平成12年', '平成13年', '平成14年', '平成15年', '平成16年', '平成17年', '平成18年',\n",
    "    '平成19年', '平成20年', '平成21年', '平成22年', '平成23年', '平成24年', '平成25年', '平成26年',\n",
    "    '平成27年', '平成28年', '平成29年', '平成30年', '平成31年', '令和2年',  '令和3年',  '令和4年',\n",
    "    '令和5年',  '令和6年'\n",
    "]]"
   ]
  },
  {
   "cell_type": "code",
   "execution_count": 6,
   "metadata": {},
   "outputs": [],
   "source": [
    "df_chika_res = df_chika[['jcode','分類','平成12年']].query('分類 == \"住宅\"').rename(columns={'平成12年':'res_price'})\n",
    "df_chika_com = df_chika[['jcode','分類','平成12年']].query('分類 == \"商業\"').rename(columns={'平成12年':'com_price'})\n",
    "\n",
    "df_chika_res = df_chika_res.query('jcode in @list_jcode')\n",
    "df_chika_com = df_chika_com.query('jcode in @list_jcode')"
   ]
  },
  {
   "cell_type": "code",
   "execution_count": null,
   "metadata": {},
   "outputs": [],
   "source": [
    "# 2020年居住地平均価格を参考に、300,000円/坪で正規化\n",
    "print('居住地価格平均値:', np.mean(df_chika_res['res_price'].to_numpy()))\n",
    "print('居住地価格中央値:', np.median(df_chika_res['res_price'].to_numpy()))"
   ]
  },
  {
   "cell_type": "code",
   "execution_count": null,
   "metadata": {},
   "outputs": [],
   "source": [
    "df_chika_res['q_i'] = df_chika_res['res_price']/300000\n",
    "df_chika_com['Q_j'] = df_chika_com['com_price']/300000\n",
    "print(df_chika_res['q_i'].mean())\n",
    "print(df_chika_com['Q_j'].mean())"
   ]
  },
  {
   "cell_type": "code",
   "execution_count": 9,
   "metadata": {},
   "outputs": [],
   "source": [
    "df_q_i = df_chika_res[['jcode','q_i']].round(6).reset_index(drop=True)\n",
    "df_Q_j = df_chika_com[['jcode','Q_j']].round(6).reset_index(drop=True)\n",
    "df_Q_j.loc[df_Q_j['Q_j'].isnull(),'Q_j'] = df_q_i.loc[df_Q_j['Q_j'].isnull(),'q_i'] # Q_jがない場合はq_iで置き換える"
   ]
  },
  {
   "cell_type": "code",
   "execution_count": null,
   "metadata": {},
   "outputs": [],
   "source": [
    "df_Q_j"
   ]
  },
  {
   "cell_type": "markdown",
   "metadata": {},
   "source": [
    "# 所得w_jの取得"
   ]
  },
  {
   "cell_type": "code",
   "execution_count": null,
   "metadata": {},
   "outputs": [],
   "source": [
    "# 所得w_jの取得\n",
    "URL = 'http://api.e-stat.go.jp/rest/3.0/app/json/getStatsData'\n",
    "p = {\n",
    "    'appId':'6f812f8eb28dc679954f0eef1472fca422edc08d',\n",
    "    'lang':'J',\n",
    "    'statsDataId':'0000081782',\n",
    "    # 'metaGetFlg':'N',\n",
    "    'explanationGetFlg':'N',\n",
    "    'annotationGetFlg':'N',\n",
    "    'cdCat02':'001',\n",
    "    # 'lvArea':'2-',\n",
    "    'cdAreaFrom': '08000',\n",
    "    'cdAreaTo': '14999',\n",
    "}\n",
    "\n",
    "res = requests.get(URL,p)\n",
    "text = res.json()\n",
    "print('項目名：',text['GET_STATS_DATA']['STATISTICAL_DATA']['TABLE_INF']['TITLE']['$'])\n",
    "print('ヒット件数：',text['GET_STATS_DATA']['STATISTICAL_DATA']['RESULT_INF']['TOTAL_NUMBER'])\n",
    "text['GET_STATS_DATA']['STATISTICAL_DATA']['CLASS_INF']['CLASS_OBJ']"
   ]
  },
  {
   "cell_type": "code",
   "execution_count": 12,
   "metadata": {},
   "outputs": [],
   "source": [
    "df = pd.DataFrame(text['GET_STATS_DATA']['STATISTICAL_DATA']['DATA_INF']['VALUE'])\n",
    "\n",
    "def parse_wage(x):\n",
    "   if   x=='001': return 100\n",
    "   elif x=='002': return 250\n",
    "   elif x=='003': return 350\n",
    "   elif x=='004': return 450\n",
    "   elif x=='005': return 600\n",
    "   elif x=='006': return 850\n",
    "   elif x=='007': return 1250\n",
    "   elif x=='008': return 2000\n",
    "   else: return 0\n",
    "\n",
    "def parse_num(x):\n",
    "   if x=='-': return 0\n",
    "   else: return int(x)\n",
    "\n",
    "df['weight'] = df['@cat01'].apply(parse_wage)\n",
    "df['num'] = df['$'].astype(int)\n",
    "df['jcode'] = df['@area']\n",
    "\n",
    "\n",
    "wm = lambda x: np.average(x, weights=df.loc[x.index, \"num\"]).round(2)\n",
    "df_w_j = df.groupby(by='jcode').agg(w_j=(\"weight\", wm)).loc[list_jcode_to].reset_index().sort_values('jcode')"
   ]
  },
  {
   "cell_type": "code",
   "execution_count": null,
   "metadata": {},
   "outputs": [],
   "source": [
    "# 2020年賃金率を参考に、300万円/年で正規化\n",
    "print('賃金率平均値:', np.mean(df_w_j['w_j'].to_numpy()).round(2))\n",
    "print('賃金率中央値:', np.median(df_w_j['w_j'].to_numpy()).round(2))"
   ]
  },
  {
   "cell_type": "code",
   "execution_count": null,
   "metadata": {},
   "outputs": [],
   "source": [
    "df_w_j['w_j'] = (df_w_j['w_j']/300).round(6)\n",
    "df_w_j"
   ]
  },
  {
   "cell_type": "markdown",
   "metadata": {},
   "source": [
    "# 通勤割合λ_ijの取得"
   ]
  },
  {
   "cell_type": "code",
   "execution_count": null,
   "metadata": {},
   "outputs": [],
   "source": [
    "From = '08000'\n",
    "To = '14999'\n",
    "\n",
    "URL = 'http://api.e-stat.go.jp/rest/3.0/app/json/getStatsData'\n",
    "p = {\n",
    "     'appId':'6f812f8eb28dc679954f0eef1472fca422edc08d',\n",
    "     'lang':'J',\n",
    "     'statsDataId':'0000033333',\n",
    "     # 'metaGetFlg':'N',\n",
    "     'explanationGetFlg':'N',\n",
    "     'annotationGetFlg':'N',\n",
    "     # 'cdArea':','.join(list),\n",
    "     # # 'cdCat02':','.join(list)\n",
    "     # 'lvArea':'4-',\n",
    "     'cdAreaFrom': From,\n",
    "     'cdAreaTo': To,\n",
    "     # 'lvCat02':'4-',\n",
    "     'cdCat01':'000',\n",
    "     'cdCat02':'T01',\n",
    "     'cdCat03':'001',\n",
    "     }\n",
    "\n",
    "res = requests.get(URL,p)\n",
    "text = res.json()\n",
    "print('項目名：',text['GET_STATS_DATA']['STATISTICAL_DATA']['TABLE_INF']['TITLE']['$'])\n",
    "print('ヒット件数：',text['GET_STATS_DATA']['STATISTICAL_DATA']['RESULT_INF']['TOTAL_NUMBER'])\n",
    "\n",
    "df_1 = pd.DataFrame(text['GET_STATS_DATA']['STATISTICAL_DATA']['DATA_INF']['VALUE'])\n",
    "df_1 = df_1[['@area', '$']].rename(columns={'@area':'from', '$':'value'})\n",
    "df_1['to'] = df_1['from']\n",
    "df_1 = df_1[['to','from', 'value']]\n",
    "text['GET_STATS_DATA']['STATISTICAL_DATA']['CLASS_INF']['CLASS_OBJ']"
   ]
  },
  {
   "cell_type": "code",
   "execution_count": null,
   "metadata": {},
   "outputs": [],
   "source": [
    "URL = 'http://api.e-stat.go.jp/rest/3.0/app/json/getStatsData'\n",
    "p = {\n",
    "     'appId':'6f812f8eb28dc679954f0eef1472fca422edc08d',\n",
    "     'lang':'J',\n",
    "     'statsDataId':'0000033343',\n",
    "     'startPosition':'1',\n",
    "     # 'metaGetFlg':'N',\n",
    "     'explanationGetFlg':'N',\n",
    "     'annotationGetFlg':'N',\n",
    "     # 'cdArea':','.join(list),\n",
    "     # # 'cdCat02':','.join(list)\n",
    "     # 'lvArea':'4-',\n",
    "     'cdAreaFrom': From,\n",
    "     'cdAreaTo': To,\n",
    "     # 'lvCat02':'4-',\n",
    "     'cdCat01From':From,\n",
    "     'cdCat01To':To,\n",
    "     'cdCat02':'000',\n",
    "     'cdCat03':'001'\n",
    "     }\n",
    "\n",
    "res = requests.get(URL,p)\n",
    "text = res.json()\n",
    "print('項目名：',text['GET_STATS_DATA']['STATISTICAL_DATA']['TABLE_INF']['TITLE']['$'])\n",
    "print('ヒット件数：',text['GET_STATS_DATA']['STATISTICAL_DATA']['RESULT_INF']['TOTAL_NUMBER'])\n",
    "\n",
    "df_2 = pd.DataFrame(text['GET_STATS_DATA']['STATISTICAL_DATA']['DATA_INF']['VALUE'])\n",
    "df_2 = df_2[['@cat01', '@area', '$']].rename(columns={'@cat01':'to', '@area':'from', '$':'value'})\n",
    "df_2 = df_2[df_2['from'] != df_2['to']]\n",
    "text['GET_STATS_DATA']['STATISTICAL_DATA']['CLASS_INF']['CLASS_OBJ']"
   ]
  },
  {
   "cell_type": "code",
   "execution_count": 17,
   "metadata": {},
   "outputs": [],
   "source": [
    "df = pd.concat([df_1, df_2])\n",
    "\n",
    "df_commute_ij = pd.DataFrame(0,columns=list_jcode,index=list_jcode)\n",
    "for i in df.itertuples():\n",
    "    if (i[1] not in list_jcode)|(i[2] not in list_jcode): continue\n",
    "    if i[3] in ['-',None]: \n",
    "        df_commute_ij.at[i[2],i[1]]=0\n",
    "    else: \n",
    "        if int(i[3]) > 100: df_commute_ij.at[i[2],i[1]]=int(i[3])\n",
    "        # df_commute_ij.at[i[2],i[1]]=int(i[3])"
   ]
  },
  {
   "cell_type": "code",
   "execution_count": null,
   "metadata": {},
   "outputs": [],
   "source": [
    "df_commute_ij"
   ]
  },
  {
   "cell_type": "markdown",
   "metadata": {},
   "source": [
    "# 世帯あたり子供の数n_ijの取得"
   ]
  },
  {
   "cell_type": "code",
   "execution_count": null,
   "metadata": {},
   "outputs": [],
   "source": [
    "URL = 'http://api.e-stat.go.jp/rest/3.0/app/json/getStatsData'\n",
    "p = {\n",
    "     'appId':'6f812f8eb28dc679954f0eef1472fca422edc08d',\n",
    "     'lang':'J',\n",
    "     'statsDataId':'0000032965',\n",
    "     # 'metaGetFlg':'N',\n",
    "     'explanationGetFlg':'N',\n",
    "     'annotationGetFlg':'N',\n",
    "     'cdCat01':'00700',\n",
    "     'cdCat02':'000',\n",
    "     'cdCat03':','.join(['200','201','202']),\n",
    "     'cdCat04':'000',\n",
    "     # 'lvArea':'5-',\n",
    "     'cdAreaFrom': From,\n",
    "     'cdAreaTo': To,\n",
    "}\n",
    "\n",
    "res = requests.get(URL,p)\n",
    "text = res.json()\n",
    "print('項目名：',text['GET_STATS_DATA']['STATISTICAL_DATA']['TABLE_INF']['TITLE']['$'])\n",
    "print('ヒット件数：',text['GET_STATS_DATA']['STATISTICAL_DATA']['RESULT_INF']['TOTAL_NUMBER'])\n",
    "text['GET_STATS_DATA']['STATISTICAL_DATA']['CLASS_INF']['CLASS_OBJ']"
   ]
  },
  {
   "cell_type": "code",
   "execution_count": 20,
   "metadata": {},
   "outputs": [],
   "source": [
    "df = pd.DataFrame(text['GET_STATS_DATA']['STATISTICAL_DATA']['DATA_INF']['VALUE'])\n",
    "df_children_i = pd.DataFrame(0,index=list_jcode,columns=[0])\n",
    "for i in df.itertuples():\n",
    "    try: \n",
    "        if i[8] == '-': pass\n",
    "        else: df_children_i.at[i[5],0] += int(i[8])\n",
    "    except: pass\n",
    "\n",
    "arr_children_ij = df_children_i.to_numpy() * df_commute_ij.to_numpy()/df_commute_ij.sum(axis=1).to_numpy().reshape(1,-1).T\n",
    "df_children_ij = pd.DataFrame(arr_children_ij,index=list_jcode, columns=list_jcode)\n",
    "df_children_ij = (df_children_ij).fillna(0)"
   ]
  },
  {
   "cell_type": "code",
   "execution_count": null,
   "metadata": {},
   "outputs": [],
   "source": [
    "df_children_ij"
   ]
  },
  {
   "cell_type": "markdown",
   "metadata": {},
   "source": [
    "# 交通費用の算出"
   ]
  },
  {
   "cell_type": "code",
   "execution_count": 22,
   "metadata": {},
   "outputs": [],
   "source": [
    "gdf_gov = gpd.read_file('data/setup_2000_2020/gov_poi.geojson',dtypes={'jcode':str})"
   ]
  },
  {
   "cell_type": "code",
   "execution_count": 23,
   "metadata": {},
   "outputs": [],
   "source": [
    "df_time = pd.read_csv('sources/e-2_H10.csv', header=3, encoding='CP932')\n",
    "df_time.columns = ['origin','destination','発ゾーン','着ゾーン','鉄道','路線バス・都電','自動車','２輪車','自転車','徒歩','その他','合計']\n",
    "df_time['発ゾーン'] = df_time['発ゾーン'].str.strip(':').str.translate(str.maketrans('０１２３４５６７８９', '0123456789'))\n",
    "df_time['着ゾーン'] = df_time['着ゾーン'].str.strip(':').str.translate(str.maketrans('０１２３４５６７８９', '0123456789'))\n",
    "ptcode = gdf_gov['H10'].tolist()\n",
    "df_time = df_time[(df_time['発ゾーン'].isin(ptcode))&(df_time['着ゾーン'].isin(ptcode))]"
   ]
  },
  {
   "cell_type": "code",
   "execution_count": 24,
   "metadata": {},
   "outputs": [],
   "source": [
    "df_time = df_time.merge(gdf_gov[['jcode','H10']], left_on='発ゾーン', right_on='H10', how='left').rename(columns={'jcode':'ori_jcode'}).drop(columns='H10')\n",
    "df_time = df_time.merge(gdf_gov[['jcode','H10']], left_on='着ゾーン', right_on='H10', how='left').rename(columns={'jcode':'dst_jcode'}).drop(columns='H10')\n",
    "\n",
    "df_time = df_time.sort_values(['ori_jcode', 'dst_jcode'])\n",
    "df_time['鉄道'] = df_time['鉄道'].where(df_time['鉄道'] !=0.0, df_time[['路線バス・都電','自動車']].apply(lambda x: np.round(np.mean(x),2), axis=1))"
   ]
  },
  {
   "cell_type": "code",
   "execution_count": 25,
   "metadata": {},
   "outputs": [],
   "source": [
    "df_time_ij = (df_time.pivot_table(values='鉄道', index='ori_jcode', columns='dst_jcode', fill_value=540)/(60*24)).round(6)"
   ]
  },
  {
   "cell_type": "code",
   "execution_count": null,
   "metadata": {},
   "outputs": [],
   "source": [
    "df_time_ij"
   ]
  },
  {
   "cell_type": "code",
   "execution_count": null,
   "metadata": {},
   "outputs": [],
   "source": [
    "df_time_ij_sim = df_time_ij\n",
    "df_time_ij_sim.loc['13101':'13123',:] = df_time_ij_sim.loc['13101':'13123',:]*0.50\n",
    "df_time_ij_sim.loc[:,'13101':'13123'] = df_time_ij_sim.loc[:,'13101':'13123']*0.50\n",
    "df_time_ij_sim.loc['13101':'13123','13101':'13123'] = df_time_ij_sim.loc['13101':'13123','13101':'13123']/0.50\n",
    "df_time_ij_sim"
   ]
  },
  {
   "cell_type": "markdown",
   "metadata": {},
   "source": [
    "運賃の参考\n",
    "初乗り:　130円 (第84条)\n",
    "距離運賃: 16.8円/km (第77条)\n",
    "https://www.desktoptetsu.com/ryoki/ryokikaitei_jre_2.htm"
   ]
  },
  {
   "cell_type": "code",
   "execution_count": 28,
   "metadata": {},
   "outputs": [],
   "source": [
    "gdf_gov = gdf_gov.to_crs(epsg=6677)\n",
    "list_gov = gdf_gov['jcode'].to_list()\n",
    "distance_matrix = gdf_gov.geometry.apply(lambda x: gdf_gov.distance(x)).values\n",
    "distance_matrix = np.where(distance_matrix/1000 > 130/16.8, distance_matrix/1000*16.8, 130)\n",
    "distance_matrix = distance_matrix * (22*12) / 3000000\n",
    "distance_matrix = np.round(distance_matrix, 5)\n",
    "df_cost_ij = pd.DataFrame(distance_matrix,index=list_gov, columns=list_gov)"
   ]
  },
  {
   "cell_type": "code",
   "execution_count": null,
   "metadata": {},
   "outputs": [],
   "source": [
    "df_cost_ij"
   ]
  },
  {
   "cell_type": "markdown",
   "metadata": {},
   "source": [
    "# その他の指標"
   ]
  },
  {
   "cell_type": "code",
   "execution_count": 30,
   "metadata": {},
   "outputs": [],
   "source": [
    "df_p_i = pd.DataFrame({\n",
    "    'jcode': list_jcode,\n",
    "    'p_i':1\n",
    "})"
   ]
  },
  {
   "cell_type": "code",
   "execution_count": 31,
   "metadata": {},
   "outputs": [],
   "source": [
    "df_param = pd.DataFrame({\n",
    "    'alpha': [0.8],\n",
    "    'gamma': [0.375],\n",
    "    'psi': [0.25],\n",
    "    'beta_cns': [0.65],\n",
    "    'beta_flr': [0.175], \n",
    "    'beta_chd': [0.175]\n",
    "})"
   ]
  },
  {
   "cell_type": "code",
   "execution_count": 32,
   "metadata": {},
   "outputs": [],
   "source": [
    "df_scaler = pd.DataFrame({\n",
    "    'T': [1],\n",
    "    'L': [0.66],\n",
    "    'N': [np.sum(df_commute_ij.to_numpy())],\n",
    "    'mu_cost': [0.04],\n",
    "    'mu_room': [0.02]\n",
    "})"
   ]
  },
  {
   "cell_type": "markdown",
   "metadata": {},
   "source": [
    "# 対象年度のマトリックスから、対象地域コードに置き換えてAggregateする"
   ]
  },
  {
   "cell_type": "code",
   "execution_count": 33,
   "metadata": {},
   "outputs": [],
   "source": [
    "def agg_sum_df(df):\n",
    "    df_ij = df.merge(df_jcode_2000[['jcode_from', 'jcode_to']], left_index=True, right_on='jcode_from').drop(columns=['jcode_from']).set_index('jcode_to')\n",
    "    df_ij = df_ij.T.merge(df_jcode_2000[['jcode_from', 'jcode_to']], left_index=True, right_on='jcode_from').drop(columns=['jcode_from']).set_index('jcode_to').T\n",
    "    df_ij = df_ij.groupby(df_ij.index).sum().T.groupby(df_ij.index).sum().T\n",
    "    return df_ij\n",
    "\n",
    "def agg_mean_df(df):\n",
    "    df_ij = df.merge(df_jcode_2000[['jcode_from', 'jcode_to']], left_index=True, right_on='jcode_from').drop(columns=['jcode_from']).set_index('jcode_to')\n",
    "    df_ij = df_ij.T.merge(df_jcode_2000[['jcode_from', 'jcode_to']], left_index=True, right_on='jcode_from').drop(columns=['jcode_from']).set_index('jcode_to').T\n",
    "    df_ij = df_ij.groupby(df_ij.index).mean().T.groupby(df_ij.index).mean().T\n",
    "    return df_ij"
   ]
  },
  {
   "cell_type": "code",
   "execution_count": 34,
   "metadata": {},
   "outputs": [],
   "source": [
    "df_commute_ij = agg_sum_df(df_commute_ij)\n",
    "df_children_ij = agg_sum_df(df_children_ij)\n",
    "df_n_ij = (df_children_ij/df_commute_ij).fillna(0).round(6)\n",
    "df_Pi_ij = (df_commute_ij/np.sum(df_commute_ij.to_numpy())).round(9)"
   ]
  },
  {
   "cell_type": "code",
   "execution_count": null,
   "metadata": {},
   "outputs": [],
   "source": [
    "df_Pi_ij"
   ]
  },
  {
   "cell_type": "markdown",
   "metadata": {},
   "source": [
    "# データの保存"
   ]
  },
  {
   "cell_type": "code",
   "execution_count": 55,
   "metadata": {},
   "outputs": [],
   "source": [
    "df_merged = df_jcode_2000.merge(df_w_j, left_on='jcode_from', right_on='jcode', how='left').drop(columns=['jcode'])\n",
    "df_merged = df_merged.merge(df_q_i, left_on='jcode_from', right_on='jcode', how='left').drop(columns=['jcode'])\n",
    "df_merged = df_merged.merge(df_Q_j, left_on='jcode_from', right_on='jcode', how='left').drop(columns=['jcode'])\n",
    "df_merged = df_merged.merge(df_p_i, left_on='jcode_from', right_on='jcode', how='left').drop(columns=['jcode'])\n",
    "df_merged = df_merged.groupby(by='jcode_to').agg({'w_j':'mean','q_i':'mean','Q_j':'mean','p_i':'mean'}).reset_index(names='jcode')"
   ]
  },
  {
   "cell_type": "code",
   "execution_count": 56,
   "metadata": {},
   "outputs": [],
   "source": [
    "df_scaler.to_csv('data/2000/scaler.csv', index=False)\n",
    "df_Pi_ij.to_csv('data/2000/Pi_ij.csv')\n",
    "df_n_ij.to_csv('data/2000/n_ij.csv')"
   ]
  },
  {
   "cell_type": "code",
   "execution_count": 57,
   "metadata": {},
   "outputs": [],
   "source": [
    "df_scaler.to_csv('data/2000/scaler.csv', index=False)\n",
    "df_param.to_csv('data/2000/param.csv', index=False)\n",
    "\n",
    "df_merged[['jcode']].to_csv('data/2000/jcode.csv')\n",
    "df_merged[['jcode','w_j']].to_csv('data/2000/w_j.csv', index=False)\n",
    "df_merged[['jcode','p_i']].to_csv('data/2000/p_i.csv', index=False)\n",
    "df_merged[['jcode','q_i']].to_csv('data/2000/q_i.csv', index=False)\n",
    "df_merged[['jcode','Q_j']].to_csv('data/2000/Q_j.csv', index=False)\n",
    "\n",
    "df_Pi_ij.to_csv('data/2000/Pi_ij.csv')\n",
    "df_n_ij.to_csv('data/2000/n_ij.csv')\n",
    "df_time_ij.to_csv('data/2000/t_ij.csv')\n",
    "df_cost_ij.to_csv('data/2000/tau_ij.csv')"
   ]
  },
  {
   "cell_type": "markdown",
   "metadata": {},
   "source": [
    "# 可視化"
   ]
  },
  {
   "cell_type": "code",
   "execution_count": null,
   "metadata": {},
   "outputs": [],
   "source": [
    "df_merged"
   ]
  },
  {
   "cell_type": "code",
   "execution_count": 59,
   "metadata": {},
   "outputs": [],
   "source": [
    "# 通勤人数の集計\n",
    "df_commute_ij_agg = pd.DataFrame({\n",
    "    'jcode': df_commute_ij.index,\n",
    "    'residents': df_commute_ij.sum(axis=1, numeric_only=True).to_numpy(),\n",
    "    'workers': df_commute_ij.sum(axis=0, numeric_only=True).to_numpy()\n",
    "})\n",
    "\n",
    "# 子供の数の集計\n",
    "df_children_ij_agg = pd.DataFrame({\n",
    "    'jcode': df_children_ij.index,\n",
    "    'children_i': df_children_ij.sum(axis=1, numeric_only=True).to_numpy(),\n",
    "    'children_j': df_children_ij.sum(axis=0, numeric_only=True).to_numpy(),\n",
    "})\n",
    "\n",
    "# 子供の数の平均\n",
    "df_n_ij_agg = pd.DataFrame({\n",
    "    'jcode': df_n_ij.index,\n",
    "    'n_i_ave': df_n_ij[df_n_ij != 0].mean(axis=1, numeric_only=True).to_numpy(),\n",
    "    'n_j_ave': df_n_ij[df_n_ij != 0].mean(axis=0, numeric_only=True).to_numpy(),\n",
    "})\n",
    "\n",
    "df_merged = df_merged.merge(df_commute_ij_agg, on='jcode', how='left')\n",
    "df_merged = df_merged.merge(df_children_ij_agg, on='jcode', how='left')\n",
    "df_merged = df_merged.merge(df_n_ij_agg, on='jcode', how='left')"
   ]
  },
  {
   "cell_type": "code",
   "execution_count": null,
   "metadata": {},
   "outputs": [],
   "source": [
    "df_merged.describe().round(3).transpose()[['mean', 'min', '25%', '50%', '75%', 'max']]"
   ]
  },
  {
   "cell_type": "code",
   "execution_count": 72,
   "metadata": {},
   "outputs": [],
   "source": [
    "gdf = gpd.read_file('data/setup_2000_2020/jcode.geojson')\n",
    "gdf['jcode'] = gdf['jcode'].astype(str)\n",
    "gdf = gdf.merge(df_merged, left_on='jcode', right_on='jcode', how='left')"
   ]
  },
  {
   "cell_type": "code",
   "execution_count": 90,
   "metadata": {},
   "outputs": [],
   "source": [
    "from libs_QSM.Plot_gdf import plot_gdf"
   ]
  },
  {
   "cell_type": "code",
   "execution_count": 89,
   "metadata": {},
   "outputs": [],
   "source": [
    "import os\n",
    "from matplotlib.colors import Normalize\n",
    "import matplotlib.pyplot as plt\n",
    "gdf_KEN = gpd.read_file(os.path.join(os.getcwd(), 'sources','japan_ver84/japan_ver84.shp'))\n",
    "gdf_KEN = gdf_KEN.dissolve('KEN').query('KEN in [\"茨城県\",\"埼玉県\", \"千葉県\", \"東京都\", \"神奈川県\"]')"
   ]
  },
  {
   "cell_type": "code",
   "execution_count": 94,
   "metadata": {},
   "outputs": [],
   "source": [
    "def plot_gdf(given_gdf, dir, col, unit, format):\n",
    "    top = max(abs(given_gdf[col]))*1.1\n",
    "    if min(given_gdf[col]) < 0 :\n",
    "        norm = Normalize(vmin=-top, vmax=top)\n",
    "        cmap = 'seismic_r'\n",
    "    else: \n",
    "        norm = Normalize(vmin=0, vmax=top)\n",
    "        cmap = 'Blues'\n",
    "    fig = given_gdf.plot(\n",
    "        column=col,\n",
    "        norm = norm,\n",
    "        legend=True,\n",
    "        edgecolor='black',  # 境界線の色\n",
    "        linewidth=0.5,   \n",
    "        figsize=(8, 8),\n",
    "        cmap=cmap,\n",
    "        legend_kwds={'shrink': 0.65, 'format':format},\n",
    "        missing_kwds={'color': 'white', \"hatch\": \"///\", \"edgecolor\": \"black\"}\n",
    "    )\n",
    "    fig = gdf_KEN.plot(ax=fig, color=(0,0,0,0), edgecolor='black')\n",
    "    clb = fig.get_figure().axes[-1]\n",
    "    clb.set_title(col)\n",
    "    plt.text(140.35, 35.2, unit, horizontalalignment='right',verticalalignment='bottom')\n",
    "    fig.set_xlim(139.2, 140.2)\n",
    "    fig.set_ylim(35.25, 36.25)\n",
    "    plt.savefig(f\"images/{dir}/{col}.png\", format='png',bbox_inches=\"tight\",pad_inches=0.1)"
   ]
  },
  {
   "cell_type": "code",
   "execution_count": null,
   "metadata": {},
   "outputs": [],
   "source": [
    "plot_gdf(gdf, '2000', 'w_j', '[万円]', lambda x, pos: x.round(2))"
   ]
  },
  {
   "cell_type": "code",
   "execution_count": null,
   "metadata": {},
   "outputs": [],
   "source": [
    "plot_gdf(gdf, '2000', 'q_i', '[万円]', lambda x, pos: x.round(2))"
   ]
  },
  {
   "cell_type": "code",
   "execution_count": null,
   "metadata": {},
   "outputs": [],
   "source": [
    "plot_gdf(gdf, '2000', 'Q_j', '[万円]', lambda x, pos: x.round(2))"
   ]
  },
  {
   "cell_type": "code",
   "execution_count": null,
   "metadata": {},
   "outputs": [],
   "source": [
    "plot_gdf(gdf, '2000', 'residents', '[万人]', lambda x, pos: int(x/10000))"
   ]
  },
  {
   "cell_type": "code",
   "execution_count": null,
   "metadata": {},
   "outputs": [],
   "source": [
    "plot_gdf(gdf, '2000', 'workers', '[万人]', lambda x, pos: int(x/10000))"
   ]
  },
  {
   "cell_type": "code",
   "execution_count": null,
   "metadata": {},
   "outputs": [],
   "source": [
    "plot_gdf(gdf, '2000', 'children_i', '[万人]', lambda x, pos: int(x/10000))"
   ]
  },
  {
   "cell_type": "code",
   "execution_count": null,
   "metadata": {},
   "outputs": [],
   "source": [
    "plot_gdf(gdf, '2000', 'children_j', '[万人]', lambda x, pos: int(x/10000))"
   ]
  },
  {
   "cell_type": "code",
   "execution_count": null,
   "metadata": {},
   "outputs": [],
   "source": [
    "plot_gdf(gdf, '2000', 'n_i_ave', '[人]', lambda x, pos: x.round(2))"
   ]
  },
  {
   "cell_type": "code",
   "execution_count": null,
   "metadata": {},
   "outputs": [],
   "source": [
    "plot_gdf(gdf, '2000', 'n_j_ave', '[人]', lambda x, pos: x.round(2))"
   ]
  },
  {
   "cell_type": "code",
   "execution_count": null,
   "metadata": {},
   "outputs": [],
   "source": []
  },
  {
   "cell_type": "code",
   "execution_count": null,
   "metadata": {},
   "outputs": [],
   "source": []
  }
 ],
 "metadata": {
  "kernelspec": {
   "display_name": ".venv",
   "language": "python",
   "name": "python3"
  },
  "language_info": {
   "codemirror_mode": {
    "name": "ipython",
    "version": 3
   },
   "file_extension": ".py",
   "mimetype": "text/x-python",
   "name": "python",
   "nbconvert_exporter": "python",
   "pygments_lexer": "ipython3",
   "version": "3.11.3"
  }
 },
 "nbformat": 4,
 "nbformat_minor": 2
}
