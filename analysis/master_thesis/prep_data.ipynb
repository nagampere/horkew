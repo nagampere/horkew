{
 "cells": [
  {
   "cell_type": "code",
   "execution_count": 1,
   "metadata": {},
   "outputs": [],
   "source": [
    "import pandas as pd\n",
    "import geopandas as gpd\n",
    "import polars as pl\n",
    "import numpy as np\n",
    "import requests\n",
    "import os\n",
    "import io\n",
    "import zipfile\n",
    "import json\n",
    "import requests\n",
    "import urllib.request\n",
    "import pandas as pd\n",
    "import geopandas as gpd\n",
    "import duckdb"
   ]
  },
  {
   "cell_type": "code",
   "execution_count": 4,
   "metadata": {},
   "outputs": [],
   "source": [
    "con = duckdb.connect(database='sources/catalog.duckdb')\n",
    "con.sql('INSTALL spatial;')\n",
    "con.sql('LOAD spatial;')"
   ]
  },
  {
   "cell_type": "code",
   "execution_count": 6,
   "metadata": {},
   "outputs": [],
   "source": [
    "def save_shp(url:str, index:int|str)->gpd.GeoDataFrame():\n",
    "    req = urllib.request.Request(url)\n",
    "    with urllib.request.urlopen(req) as res:\n",
    "        data = res.read()\n",
    "    path = os.path.join(os.getcwd(), 'sources')\n",
    "    os.makedirs(path, exist_ok=True)\n",
    "    # データがzipファイルになっているので中身を抽出して変数に格納する\n",
    "    with zipfile.ZipFile(io.BytesIO(data), 'r') as zip_data:\n",
    "        zip_data.extractall(path)"
   ]
  },
  {
   "cell_type": "code",
   "execution_count": 12,
   "metadata": {},
   "outputs": [
    {
     "ename": "NotImplementedException",
     "evalue": "Not implemented Error: Data type 'geometry' not recognized",
     "output_type": "error",
     "traceback": [
      "\u001b[0;31m---------------------------------------------------------------------------\u001b[0m",
      "\u001b[0;31mNotImplementedException\u001b[0m                   Traceback (most recent call last)",
      "Cell \u001b[0;32mIn[12], line 4\u001b[0m\n\u001b[1;32m      1\u001b[0m save_shp(\u001b[38;5;124m'\u001b[39m\u001b[38;5;124mhttps://www.esrij.com/cgi-bin/wp/wp-content/uploads/2012/10/japan_ver84.zip\u001b[39m\u001b[38;5;124m'\u001b[39m,\u001b[38;5;241m0\u001b[39m)\n\u001b[1;32m      2\u001b[0m gdf \u001b[38;5;241m=\u001b[39m gpd\u001b[38;5;241m.\u001b[39mread_file(os\u001b[38;5;241m.\u001b[39mpath\u001b[38;5;241m.\u001b[39mjoin(os\u001b[38;5;241m.\u001b[39mgetcwd(), \u001b[38;5;124m'\u001b[39m\u001b[38;5;124msources\u001b[39m\u001b[38;5;124m'\u001b[39m,\u001b[38;5;124m'\u001b[39m\u001b[38;5;124mjapan_ver84/japan_ver84.shp\u001b[39m\u001b[38;5;124m'\u001b[39m))\n\u001b[0;32m----> 4\u001b[0m \u001b[43mcon\u001b[49m\u001b[38;5;241;43m.\u001b[39;49m\u001b[43msql\u001b[49m\u001b[43m(\u001b[49m\u001b[38;5;124;43m\"\u001b[39;49m\u001b[38;5;124;43mCREATE TABLE geo_japan as SELECT * FROM gdf\u001b[39;49m\u001b[38;5;124;43m\"\u001b[39;49m\u001b[43m)\u001b[49m\n",
      "\u001b[0;31mNotImplementedException\u001b[0m: Not implemented Error: Data type 'geometry' not recognized"
     ]
    }
   ],
   "source": [
    "save_shp('https://www.esrij.com/cgi-bin/wp/wp-content/uploads/2012/10/japan_ver84.zip',0)\n",
    "gdf = gpd.read_file(os.path.join(os.getcwd(), 'sources','japan_ver84/japan_ver84.shp'))\n",
    "\n",
    "con.sql(\"CREATE TABLE geo_japan as SELECT * FROM gdf\")"
   ]
  },
  {
   "cell_type": "code",
   "execution_count": null,
   "metadata": {},
   "outputs": [],
   "source": [
    "gdf_KEN = gdf.dissolve('KEN').query('KEN in [\"茨城県\",\"埼玉県\", \"千葉県\", \"東京都\", \"神奈川県\"]')"
   ]
  },
  {
   "cell_type": "code",
   "execution_count": 13,
   "metadata": {},
   "outputs": [],
   "source": [
    "con.close()"
   ]
  },
  {
   "cell_type": "code",
   "execution_count": null,
   "metadata": {},
   "outputs": [],
   "source": []
  }
 ],
 "metadata": {
  "kernelspec": {
   "display_name": ".venv",
   "language": "python",
   "name": "python3"
  },
  "language_info": {
   "codemirror_mode": {
    "name": "ipython",
    "version": 3
   },
   "file_extension": ".py",
   "mimetype": "text/x-python",
   "name": "python",
   "nbconvert_exporter": "python",
   "pygments_lexer": "ipython3",
   "version": "3.11.3"
  }
 },
 "nbformat": 4,
 "nbformat_minor": 2
}
