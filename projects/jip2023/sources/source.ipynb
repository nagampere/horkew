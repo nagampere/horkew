{
 "cells": [
  {
   "cell_type": "code",
   "execution_count": 1,
   "metadata": {},
   "outputs": [],
   "source": [
    "import requests"
   ]
  },
  {
   "cell_type": "code",
   "execution_count": 2,
   "metadata": {},
   "outputs": [],
   "source": [
    "def load_file(url,filename):\n",
    "    urlData = requests.get(url).content\n",
    "\n",
    "    with open(filename ,mode='wb') as f: # wb でバイト型を書き込める\n",
    "        f.write(urlData)"
   ]
  },
  {
   "cell_type": "markdown",
   "metadata": {},
   "source": [
    "# 2. 資本"
   ]
  },
  {
   "cell_type": "code",
   "execution_count": 3,
   "metadata": {},
   "outputs": [],
   "source": [
    "load_file(\n",
    "    'https://www.rieti.go.jp/jp/database/JIP2023/data/jip2023_2.xlsx',\n",
    "    'capital.xlsx'\n",
    ")"
   ]
  },
  {
   "cell_type": "markdown",
   "metadata": {},
   "source": [
    "# 3.労働"
   ]
  },
  {
   "cell_type": "code",
   "execution_count": 4,
   "metadata": {},
   "outputs": [],
   "source": [
    "#1) 部門別労働投入指数（2015年=1.000）\n",
    "load_file(\n",
    "    'https://www.rieti.go.jp/jp/database/JIP2023/data/jip2023_3-1.xlsx',\n",
    "    'labor__indices_of_labor_input_by_sector.xlsx'\n",
    ")"
   ]
  },
  {
   "cell_type": "code",
   "execution_count": 5,
   "metadata": {},
   "outputs": [],
   "source": [
    "#2) 部門別労働投入指数伸び率（年率、%）\n",
    "load_file(\n",
    "    'https://www.rieti.go.jp/jp/database/JIP2023/data/jip2023_3-2.xlsx',\n",
    "    'labor__average_annual_change_in_indices_of_labor_input_by_sector.xlsx'\n",
    ")"
   ]
  },
  {
   "cell_type": "code",
   "execution_count": 6,
   "metadata": {},
   "outputs": [],
   "source": [
    "#3) 部門別マンアワー指数（2015年=1.000）\n",
    "load_file(\n",
    "    'https://www.rieti.go.jp/jp/database/JIP2023/data/jip2023_3-3.xlsx',\n",
    "    'labor__indices_of_hours_worked_by_sector.xlsx'\n",
    ")"
   ]
  },
  {
   "cell_type": "code",
   "execution_count": 7,
   "metadata": {},
   "outputs": [],
   "source": [
    "#4) 部門別マンアワー指数伸び率（年率、%）\n",
    "load_file(\n",
    "    'https://www.rieti.go.jp/jp/database/JIP2023/data/jip2023_3-4.xlsx',\n",
    "    'labor__average_annual_change_in_hours_worked.xlsx'\n",
    ")"
   ]
  },
  {
   "cell_type": "code",
   "execution_count": 9,
   "metadata": {},
   "outputs": [],
   "source": [
    "#5) 部門別労働の質指数（2015年=1.000）\n",
    "load_file(\n",
    "    'https://www.rieti.go.jp/jp/database/JIP2023/data/jip2023_3-5.xlsx',\n",
    "    'labor__indices_of_labor_quality_by_sector.xlsx'\n",
    ")"
   ]
  },
  {
   "cell_type": "code",
   "execution_count": 10,
   "metadata": {},
   "outputs": [],
   "source": [
    "#6) 部門別労働の質指数伸び率（年率、%）\n",
    "load_file(\n",
    "    'https://www.rieti.go.jp/jp/database/JIP2023/data/jip2023_3-6.xlsx',\n",
    "    'labor__average_annual_change_in_indices_of_labor_quality_by_sector.xlsx'\n",
    ")"
   ]
  },
  {
   "cell_type": "code",
   "execution_count": 11,
   "metadata": {},
   "outputs": [],
   "source": [
    "#7) 部門別従業者数（人）\n",
    "load_file(\n",
    "    'https://www.rieti.go.jp/jp/database/JIP2023/data/jip2023_3-7.xlsx',\n",
    "    'labor__number_of_workers_by_sector.xlsx'\n",
    ")"
   ]
  },
  {
   "cell_type": "code",
   "execution_count": 12,
   "metadata": {},
   "outputs": [],
   "source": [
    "#8) 部門別マンアワー（従業者数×従業者一人あたり年間総実労働時間÷1000）\n",
    "load_file(\n",
    "    'https://www.rieti.go.jp/jp/database/JIP2023/data/jip2023_3-8.xlsx',\n",
    "    'labor__hours_worked_by_sector.xlsx'\n",
    ")"
   ]
  },
  {
   "cell_type": "code",
   "execution_count": 13,
   "metadata": {},
   "outputs": [],
   "source": [
    "#9) 部門別名目労働コスト（100万円）\n",
    "load_file(\n",
    "    'https://www.rieti.go.jp/jp/database/JIP2023/data/jip2023_3-9.xlsx',\n",
    "    'labor__nominal_labor_costs_by_sector.xlsx'\n",
    ")"
   ]
  },
  {
   "cell_type": "code",
   "execution_count": 14,
   "metadata": {},
   "outputs": [],
   "source": [
    "#10) 部門別女性比率（女性従業者/従業者計、%）\n",
    "load_file(\n",
    "    'https://www.rieti.go.jp/jp/database/JIP2023/data/jip2023_3-10.xlsx',\n",
    "    'labor__share_of_female_workers.xlsx'\n",
    ")"
   ]
  },
  {
   "cell_type": "code",
   "execution_count": 15,
   "metadata": {},
   "outputs": [],
   "source": [
    "#11) 部門別パートタイム労働者比率（パートタイム労働者/従業者計、%）\n",
    "load_file(\n",
    "    'https://www.rieti.go.jp/jp/database/JIP2023/data/jip2023_3-11.xlsx',\n",
    "    'labor__share_of_part_time_workers.xlsx'\n",
    ")"
   ]
  },
  {
   "cell_type": "code",
   "execution_count": 16,
   "metadata": {},
   "outputs": [],
   "source": [
    "#12) 部門別55歳以上従業者比率（55歳以上従業者/従業者計、%）\n",
    "load_file(\n",
    "    'https://www.rieti.go.jp/jp/database/JIP2023/data/jip2023_3-12.xlsx',\n",
    "    'labor__share_of_workers_aged_55_and_over.xlsx'\n",
    ")"
   ]
  },
  {
   "cell_type": "markdown",
   "metadata": {},
   "source": [
    "# 4.成長会計"
   ]
  },
  {
   "cell_type": "code",
   "execution_count": 17,
   "metadata": {},
   "outputs": [],
   "source": [
    "load_file(\n",
    "    'https://www.rieti.go.jp/jp/database/JIP2023/data/jip2023_4.xlsx',\n",
    "    'growth.xlsx'\n",
    ")"
   ]
  },
  {
   "cell_type": "markdown",
   "metadata": {},
   "source": [
    "# 6.無形資産投資・ストックデータ"
   ]
  },
  {
   "cell_type": "code",
   "execution_count": 18,
   "metadata": {},
   "outputs": [],
   "source": [
    "load_file(\n",
    "    'https://www.rieti.go.jp/jp/database/JIP2023/data/jip2023_6.xlsx',\n",
    "    'intangible_assets.xlsx'\n",
    ")"
   ]
  },
  {
   "cell_type": "code",
   "execution_count": null,
   "metadata": {},
   "outputs": [],
   "source": []
  }
 ],
 "metadata": {
  "kernelspec": {
   "display_name": ".venv",
   "language": "python",
   "name": "python3"
  },
  "language_info": {
   "codemirror_mode": {
    "name": "ipython",
    "version": 3
   },
   "file_extension": ".py",
   "mimetype": "text/x-python",
   "name": "python",
   "nbconvert_exporter": "python",
   "pygments_lexer": "ipython3",
   "version": "3.11.3"
  }
 },
 "nbformat": 4,
 "nbformat_minor": 2
}
