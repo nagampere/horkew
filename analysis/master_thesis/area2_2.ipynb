{
 "cells": [
  {
   "cell_type": "code",
   "execution_count": 43,
   "metadata": {},
   "outputs": [],
   "source": [
    "# 外部ライブラリのインポート\n",
    "import numpy as np\n",
    "\n",
    "# 自作パッケージのインポート\n",
    "from libs.Horcher_model import Horcher_model"
   ]
  },
  {
   "cell_type": "code",
   "execution_count": 44,
   "metadata": {},
   "outputs": [],
   "source": [
    "# モデルの定義\n",
    "model = Horcher_model(2,2)\n",
    "# 外生変数の設定\n",
    "exog = {\n",
    "    't_ij': np.array([\n",
    "        [45, 75],\n",
    "        [75, 30]\n",
    "    ])/(60*24),\n",
    "    'tau_ij': np.array([\n",
    "        [0.006, 0.010],\n",
    "        [0.010, 0.005]\n",
    "    ]),\n",
    "    'p_i': np.array([1.0, 1.0]), \n",
    "    'L_i': np.array([50, 50])\n",
    "}\n",
    "# パラメータの設定\n",
    "param = {    \n",
    "    'alpha': 0.80,\n",
    "    'beta':  0.75,\n",
    "    'gamma': 9/24,\n",
    "    'psi':   0.25,\n",
    "    'L':     1,\n",
    "    'T':     8/24,\n",
    "    'N':     100\n",
    "}\n",
    "# 基準均衡時の内生変数の設定\n",
    "ref = {\n",
    "    'lambda_ij': np.array([\n",
    "        [0.25, 0.30],\n",
    "        [0.05, 0.40]\n",
    "    ]),\n",
    "    'q_i':   np.array([0.90, 1.1]),\n",
    "    'Q_j':   np.array([1.5, 1.5]),\n",
    "    'w_j':   np.array([0.95, 1.05])\n",
    "}"
   ]
  },
  {
   "cell_type": "code",
   "execution_count": 45,
   "metadata": {},
   "outputs": [
    {
     "name": "stdout",
     "output_type": "stream",
     "text": [
      "p_i array has been stored.\n",
      "L_i array has been stored.\n",
      "tau_ij array has been stored.\n",
      "t_ij array has been stored.\n"
     ]
    }
   ],
   "source": [
    "# 1.外生変数の入力\n",
    "model.set_exog(exog)"
   ]
  },
  {
   "cell_type": "code",
   "execution_count": 46,
   "metadata": {},
   "outputs": [],
   "source": [
    "# 2.パラメータの入力\n",
    "model.set_param(param)"
   ]
  },
  {
   "cell_type": "code",
   "execution_count": 47,
   "metadata": {},
   "outputs": [
    {
     "name": "stdout",
     "output_type": "stream",
     "text": [
      "q_i array has been stored.\n",
      "Q_j array has been stored.\n",
      "w_j array has been stored.\n",
      "lambda_ij array has been stored.\n",
      "### Check the setting of reference variables ###\n",
      "N_R_i: 居住人口\n",
      "[55. 45.]\n",
      "N_W_j: 就業人口\n",
      "[30. 70.]\n",
      "M_R_i: 労働供給\n",
      "[54.9034749  47.21780604]\n",
      "M_W_j: 労働需要\n",
      "[30.57915058 71.54213037]\n",
      "v_ij: 時間価値\n",
      "[[2.58925714 2.69837838]\n",
      " [2.43891892 2.95058824]]\n",
      "C_ij: 一人当たり基本財消費量\n",
      "[[0.72822857 0.75891892]\n",
      " [0.68594595 0.82985294]]\n",
      "H_R_ij: 一人当たり居住地面積\n",
      "[[0.26971429 0.28108108]\n",
      " [0.20786241 0.25147059]]\n",
      "H_R_i: 居住地面積\n",
      "[15.17528958 11.09813557]\n",
      "################################################\n"
     ]
    }
   ],
   "source": [
    "# 3.基準均衡時の内生変数の入力\n",
    "model.set_ref(ref)"
   ]
  },
  {
   "cell_type": "code",
   "execution_count": 48,
   "metadata": {},
   "outputs": [
    {
     "name": "stdout",
     "output_type": "stream",
     "text": [
      "### Check the regression result ###\n",
      "                            OLS Regression Results                            \n",
      "==============================================================================\n",
      "Dep. Variable:                      y   R-squared:                       0.958\n",
      "Model:                            OLS   Adj. R-squared:                  0.937\n",
      "Method:                 Least Squares   F-statistic:                     45.36\n",
      "Date:                Sun, 14 Jul 2024   Prob (F-statistic):             0.0213\n",
      "Time:                        00:04:24   Log-Likelihood:                 1.5034\n",
      "No. Observations:                   4   AIC:                            0.9931\n",
      "Df Residuals:                       2   BIC:                           -0.2343\n",
      "Df Model:                           1                                         \n",
      "Covariance Type:            nonrobust                                         \n",
      "==============================================================================\n",
      "                 coef    std err          t      P>|t|      [0.025      0.975]\n",
      "------------------------------------------------------------------------------\n",
      "const        -12.5351      1.624     -7.719      0.016     -19.523      -5.548\n",
      "x1            11.1247      1.652      6.735      0.021       4.018      18.231\n",
      "==============================================================================\n",
      "Omnibus:                          nan   Durbin-Watson:                   0.816\n",
      "Prob(Omnibus):                    nan   Jarque-Bera (JB):                0.605\n",
      "Skew:                           0.820   Prob(JB):                        0.739\n",
      "Kurtosis:                       2.031   Cond. No.                         27.6\n",
      "==============================================================================\n",
      "\n",
      "Notes:\n",
      "[1] Standard Errors assume that the covariance matrix of the errors is correctly specified.\n",
      "Estimated epsilon is  29.665984533620534\n",
      "Standard error is  1.651703004746967\n",
      "T-value is  6.735317528717554\n",
      "R-squared is  0.9577742843993018\n",
      "x: [0.97771115 1.01899112 0.86772733 1.05817701]\n",
      "y: [-1.38629436 -1.2039728  -2.99573227 -0.91629073]\n"
     ]
    },
    {
     "name": "stderr",
     "output_type": "stream",
     "text": [
      "/Users/nagampere/File/horkew/.venv/lib/python3.11/site-packages/statsmodels/stats/stattools.py:74: ValueWarning: omni_normtest is not valid with less than 8 observations; 4 samples were given.\n",
      "  warn(\"omni_normtest is not valid with less than 8 observations; %i \"\n"
     ]
    },
    {
     "data": {
      "image/png": "[encoded data removed]",
      "text/plain": [
       "<Figure size 800x600 with 1 Axes>"
      ]
     },
     "metadata": {},
     "output_type": "display_data"
    },
    {
     "name": "stdout",
     "output_type": "stream",
     "text": [
      "###################################\n"
     ]
    }
   ],
   "source": [
    "# 4.フレシェ分布のパラメータ-𝜖の推定\n",
    "model.estimate_epsilon('OLS')"
   ]
  },
  {
   "cell_type": "code",
   "execution_count": 49,
   "metadata": {},
   "outputs": [
    {
     "name": "stdout",
     "output_type": "stream",
     "text": [
      " message: Optimization terminated successfully\n",
      " success: True\n",
      "  status: 0\n",
      "     fun: 0.00018517904524770358\n",
      "       x: [ 1.325e+00  6.459e-01  8.513e-01  1.157e+00]\n",
      "     nit: 6\n",
      "     jac: [ 3.858e-04 -7.944e-04  2.189e-04 -1.611e-04]\n",
      "    nfev: 31\n",
      "    njev: 6\n",
      "### Check the estimation result ###\n",
      "utility\n",
      "[[ 52933.22018013  47949.94931291]\n",
      " [ 27210.19837528 129566.36823209]]\n",
      "X_i\n",
      "[1.32535947 0.64589015]\n",
      "E_j\n",
      "[0.85128957 1.15665833]\n",
      "XE\n",
      "[[1.1282647  1.53298808]\n",
      " [0.54983955 0.74707422]]\n",
      "λ_ij\n",
      "[[0.24377967 0.3000441 ]\n",
      " [0.06106971 0.39510652]]\n",
      "Σλ_ij\n",
      "0.9999999999999999\n",
      "###################################\n",
      "### Check the estimated variables ###\n",
      "A_j: 就業地の生産レベル(外生変数)\n",
      "[1.7167978  1.85990903]\n",
      "xi_i: 地域iにおける商業地の相対地価(外生変数)\n",
      "[1.66666667 1.36363636]\n",
      "H_W_j: 商業地面積\n",
      "[ 4.84169884 12.51987281]\n",
      "H_i: 床面積\n",
      "[20.01698842 23.61800838]\n",
      "q_ave_i:  居住地の平均価格\n",
      "[1.04512769 1.31203943]\n",
      "φ_i: 土地賦存量に対する床面積の割合\n",
      "[0.83125999 0.49573412]\n",
      "H_ave_i: 仮想的な床面積の最大量(外生変数)\n",
      "[118.62621598  46.83641992]\n",
      "#####################################\n"
     ]
    }
   ],
   "source": [
    "# 5.基準均衡時の内生変数をもとに、外生変数の推定\n",
    "model.recover_fundamentals()"
   ]
  },
  {
   "cell_type": "code",
   "execution_count": 50,
   "metadata": {},
   "outputs": [
    {
     "name": "stdout",
     "output_type": "stream",
     "text": [
      "### Check the result of equilibrium ###\n",
      " message: The solution converged.\n",
      " success: True\n",
      "  status: 1\n",
      "     fun: [ 5.077e-12  9.237e-13]\n",
      "       x: [ 9.506e-01  1.050e+00]\n",
      "  method: hybr\n",
      "    nfev: 13\n",
      "    fjac: [[-9.508e-01  3.098e-01]\n",
      "           [-3.098e-01 -9.508e-01]]\n",
      "       r: [-4.079e+02  1.950e+02 -3.104e+02]\n",
      "     qtf: [ 3.081e-08  1.699e-08]\n",
      "w_j: 賃金率\n",
      "[0.95064579 1.05006191]\n",
      "#######################################\n",
      "### Calculate the endogenous variables ###\n",
      "λ_ij: 通勤割合\n",
      "[[0.24613278 0.29877368]\n",
      " [0.06166119 0.39343235]]\n",
      "v_ij\n",
      "[[2.59102844 2.69853901]\n",
      " [2.44059447 2.95076304]]\n",
      "q_i: 居住用地価\n",
      "[0.89755696 1.09974061]\n",
      "Q_j: 業務用地価\n",
      "[1.49592827 1.49964629]\n",
      "q_ave_i: 土地の平均価格\n",
      "[1.04598051 1.30989012]\n",
      "N_R_i: 居住人口\n",
      "[54.49064607 45.50935393]\n",
      "N_W_j: 勤務人口\n",
      "[30.77939632 69.22060368]\n",
      "M_R_i: 労働供給量\n",
      "[54.38638613 47.65701004]\n",
      "M_W_j: 労働需要量\n",
      "[31.31598098 70.7274152 ]\n",
      "H_R_i: 居住地面積\n",
      "[15.08249815 11.1794737 ]\n",
      "H_W_j: 商業地面積\n",
      "[ 4.97523944 12.38094699]\n",
      "H_i: 床面積\n",
      "[20.05773759 23.56042069]\n",
      "Y_j: 企業の生産量\n",
      "[37.2130067 92.8352058]\n",
      "#####################################\n"
     ]
    }
   ],
   "source": [
    "# 6.現況再現性の確認\n",
    "model.check_replication('root', 'hybr')"
   ]
  },
  {
   "cell_type": "code",
   "execution_count": 51,
   "metadata": {},
   "outputs": [],
   "source": [
    "# 7.外生変数の再入力\n",
    "model.change_exog(\n",
    "    {\n",
    "        't_ij': np.array([\n",
    "            [45, 60],\n",
    "            [60, 15]\n",
    "        ])/(60*24),\n",
    "        'tau_ij': np.array([\n",
    "            [0.006, 0.009],\n",
    "            [0.009, 0.004]\n",
    "        ])\n",
    "    }\n",
    ")"
   ]
  },
  {
   "cell_type": "code",
   "execution_count": 52,
   "metadata": {},
   "outputs": [
    {
     "name": "stdout",
     "output_type": "stream",
     "text": [
      "### Check the result of equilibrium ###\n",
      " message: The solution converged.\n",
      " success: True\n",
      "  status: 1\n",
      "     fun: [ 2.117e-12  7.851e-13]\n",
      "       x: [ 9.529e-01  1.043e+00]\n",
      "  method: hybr\n",
      "    nfev: 13\n",
      "    fjac: [[-9.485e-01  3.166e-01]\n",
      "           [-3.166e-01 -9.485e-01]]\n",
      "       r: [-3.706e+02  1.550e+02 -3.238e+02]\n",
      "     qtf: [-6.220e-09 -4.920e-09]\n",
      "w_j: 賃金率\n",
      "[0.95293903 1.04339678]\n",
      "#######################################\n",
      "### Calculate the endogenous variables ###\n",
      "λ_ij: 通勤割合\n",
      "[[0.21913777 0.29974904]\n",
      " [0.075354   0.4057592 ]]\n",
      "v_ij\n",
      "[[2.59731847 2.75839142]\n",
      " [2.51717073 3.02369973]]\n",
      "q_i: 居住用地価\n",
      "[0.88894825 1.1281112 ]\n",
      "Q_j: 業務用地価\n",
      "[1.48158042 1.53833345]\n",
      "q_ave_i: 土地の平均価格\n",
      "[1.03548295 1.3400953 ]\n",
      "N_R_i: 居住人口\n",
      "[51.88868088 48.11131912]\n",
      "N_W_j: 勤務人口\n",
      "[29.4491761 70.5508239]\n",
      "M_R_i: 労働供給量\n",
      "[52.51478878 51.80003908]\n",
      "M_W_j: 労働需要量\n",
      "[30.075284   74.23954386]\n",
      "H_R_i: 居住地面積\n",
      "[14.72240955 11.77221748]\n",
      "H_W_j: 商業地面積\n",
      "[ 4.83603717 12.58850948]\n",
      "H_i: 床面積\n",
      "[19.55844672 24.36072696]\n",
      "Y_j: 企業の生産量\n",
      "[35.82488978 96.82662638]\n",
      "#####################################\n"
     ]
    }
   ],
   "source": [
    "# 8.新しい外生変数による一般均衡分析と, 内生変数の導出\n",
    "model.simulate_project('root', 'hybr')"
   ]
  },
  {
   "cell_type": "code",
   "execution_count": 53,
   "metadata": {},
   "outputs": [],
   "source": [
    "# 9.一般均衡分析の結果の評価\n",
    "model.evaluate_res()"
   ]
  },
  {
   "cell_type": "code",
   "execution_count": 57,
   "metadata": {},
   "outputs": [],
   "source": [
    "# 評価結果の可視化\n",
    "import geopandas as gpd\n",
    "from shapely.geometry import Polygon\n",
    "import matplotlib.pyplot as plt\n",
    "from matplotlib.colors import Normalize\n",
    "import matplotlib.ticker as ticker\n",
    "import matplotlib.patheffects as patheffects\n",
    "\n",
    "# ダミーのポリゴンを作成\n",
    "polygons = [\n",
    "    Polygon([(0, 0), (1, 0), (1, 1), (0, 1)]),\n",
    "    Polygon([(1, 0), (1, 1), (2, 1), (2, 0)])\n",
    "]\n",
    "\n",
    "# gdfに変換\n",
    "gdf = gpd.GeoDataFrame(\n",
    "    model.change,\n",
    "    geometry = polygons\n",
    ")\n",
    "\n",
    "def plot_change(gdf:gpd.GeoDataFrame, name:str, dir:str):\n",
    "    fig, ax = plt.subplots(1, 1)\n",
    "    # カラーバーの上下端を設定\n",
    "    norm = Normalize(vmin=-10, vmax=10)\n",
    "    gdf.plot(\n",
    "        column = name,\n",
    "        ax = ax,\n",
    "        norm = norm,\n",
    "        cmap = 'seismic',\n",
    "        legend = True,\n",
    "        legend_kwds={\n",
    "            \"label\": name, \n",
    "            \"format\":ticker.FuncFormatter(lambda x, _: f'{int(x)}%'),\n",
    "            \"anchor\": (0.5,2.5),\n",
    "            \"orientation\": \"horizontal\",\n",
    "            \"shrink\": 0.6,\n",
    "        }\n",
    "    ).set_axis_off()\n",
    "\n",
    "    # 数字を各ジオメトリに追加\n",
    "    for idx, row in gdf.iterrows():\n",
    "        # ジオメトリの中央にテキストを追加\n",
    "        plt.text(\n",
    "            row.geometry.centroid.x, \n",
    "            row.geometry.centroid.y, \n",
    "            str(round(row[name],3)), \n",
    "            fontsize=25, \n",
    "            ha='center',\n",
    "            path_effects=[patheffects.withStroke(\n",
    "                linewidth=3, \n",
    "                foreground='white', \n",
    "                capstyle=\"round\"\n",
    "                )]\n",
    "        )\n",
    "\n",
    "    # 保存\n",
    "    # fig.subplots_adjust(left=0.05, right=0.995, bottom=0.05, top=0.995)\n",
    "    plt.savefig(f\"{dir}/area2_2__{name}.png\",bbox_inches=\"tight\")\n",
    "    # 可視化\n",
    "    plt.show()"
   ]
  },
  {
   "cell_type": "code",
   "execution_count": 55,
   "metadata": {},
   "outputs": [
    {
     "data": {
      "text/html": [
       "<div>\n",
       "<style scoped>\n",
       "    .dataframe tbody tr th:only-of-type {\n",
       "        vertical-align: middle;\n",
       "    }\n",
       "\n",
       "    .dataframe tbody tr th {\n",
       "        vertical-align: top;\n",
       "    }\n",
       "\n",
       "    .dataframe thead th {\n",
       "        text-align: right;\n",
       "    }\n",
       "</style>\n",
       "<table border=\"1\" class=\"dataframe\">\n",
       "  <thead>\n",
       "    <tr style=\"text-align: right;\">\n",
       "      <th></th>\n",
       "      <th>w_j</th>\n",
       "      <th>Q_j</th>\n",
       "      <th>q_i</th>\n",
       "      <th>v_ij</th>\n",
       "      <th>lambda_ij</th>\n",
       "      <th>N_R_i</th>\n",
       "      <th>N_W_j</th>\n",
       "      <th>M_R_i</th>\n",
       "      <th>M_W_j</th>\n",
       "      <th>H_R_ij</th>\n",
       "      <th>H_R_i</th>\n",
       "      <th>H_W_j</th>\n",
       "      <th>H_i</th>\n",
       "      <th>Y_j</th>\n",
       "      <th>q_ave_i</th>\n",
       "      <th>phi_i</th>\n",
       "      <th>geometry</th>\n",
       "    </tr>\n",
       "  </thead>\n",
       "  <tbody>\n",
       "    <tr>\n",
       "      <th>0</th>\n",
       "      <td>0.241230</td>\n",
       "      <td>-0.959127</td>\n",
       "      <td>-0.959127</td>\n",
       "      <td>1.325766</td>\n",
       "      <td>-4.775068</td>\n",
       "      <td>-4.775068</td>\n",
       "      <td>-4.321788</td>\n",
       "      <td>-3.441298</td>\n",
       "      <td>-3.961865</td>\n",
       "      <td>2.307021</td>\n",
       "      <td>-2.387460</td>\n",
       "      <td>-2.797901</td>\n",
       "      <td>-2.489268</td>\n",
       "      <td>-3.730193</td>\n",
       "      <td>-1.003609</td>\n",
       "      <td>0.506542</td>\n",
       "      <td>POLYGON ((0.00000 0.00000, 1.00000 0.00000, 1....</td>\n",
       "    </tr>\n",
       "    <tr>\n",
       "      <th>1</th>\n",
       "      <td>-0.634737</td>\n",
       "      <td>2.579753</td>\n",
       "      <td>2.579753</td>\n",
       "      <td>2.562003</td>\n",
       "      <td>5.717429</td>\n",
       "      <td>5.717429</td>\n",
       "      <td>1.921711</td>\n",
       "      <td>8.693430</td>\n",
       "      <td>4.965725</td>\n",
       "      <td>-0.017304</td>\n",
       "      <td>5.302072</td>\n",
       "      <td>1.676467</td>\n",
       "      <td>3.396825</td>\n",
       "      <td>4.299469</td>\n",
       "      <td>2.305932</td>\n",
       "      <td>-3.438333</td>\n",
       "      <td>POLYGON ((1.00000 0.00000, 1.00000 1.00000, 2....</td>\n",
       "    </tr>\n",
       "  </tbody>\n",
       "</table>\n",
       "</div>"
      ],
      "text/plain": [
       "        w_j       Q_j       q_i      v_ij  lambda_ij     N_R_i     N_W_j  \\\n",
       "0  0.241230 -0.959127 -0.959127  1.325766  -4.775068 -4.775068 -4.321788   \n",
       "1 -0.634737  2.579753  2.579753  2.562003   5.717429  5.717429  1.921711   \n",
       "\n",
       "      M_R_i     M_W_j    H_R_ij     H_R_i     H_W_j       H_i       Y_j  \\\n",
       "0 -3.441298 -3.961865  2.307021 -2.387460 -2.797901 -2.489268 -3.730193   \n",
       "1  8.693430  4.965725 -0.017304  5.302072  1.676467  3.396825  4.299469   \n",
       "\n",
       "    q_ave_i     phi_i                                           geometry  \n",
       "0 -1.003609  0.506542  POLYGON ((0.00000 0.00000, 1.00000 0.00000, 1....  \n",
       "1  2.305932 -3.438333  POLYGON ((1.00000 0.00000, 1.00000 1.00000, 2....  "
      ]
     },
     "execution_count": 55,
     "metadata": {},
     "output_type": "execute_result"
    }
   ],
   "source": [
    "gdf.head()"
   ]
  },
  {
   "cell_type": "code",
   "execution_count": 58,
   "metadata": {},
   "outputs": [
    {
     "data": {
      "image/png": "[encoded data removed]",
      "text/plain": [
       "<Figure size 640x480 with 2 Axes>"
      ]
     },
     "metadata": {},
     "output_type": "display_data"
    }
   ],
   "source": [
    "plot_change(gdf, 'w_j', '/Users/nagampere/File/horkew/analysis/master_thesis/images')\n",
    "# plot_change(gdf, 'Q_j', '/Users/nagampere/File/horkew/analysis/master_thesis/images')\n",
    "# plot_change(gdf, 'q_i', '/Users/nagampere/File/horkew/analysis/master_thesis/images')\n",
    "# plot_change(gdf, 'v_ij', '/Users/nagampere/File/horkew/analysis/master_thesis/images')\n",
    "# plot_change(gdf, 'lambda_ij', '/Users/nagampere/File/horkew/analysis/master_thesis/images')\n",
    "# plot_change(gdf, 'N_R_i', '/Users/nagampere/File/horkew/analysis/master_thesis/images')\n",
    "# plot_change(gdf, 'N_W_j', '/Users/nagampere/File/horkew/analysis/master_thesis/images')\n",
    "# plot_change(gdf, 'M_R_i', '/Users/nagampere/File/horkew/analysis/master_thesis/images')\n",
    "# plot_change(gdf, 'M_W_j', '/Users/nagampere/File/horkew/analysis/master_thesis/images')\n",
    "# plot_change(gdf, 'H_R_ij', '/Users/nagampere/File/horkew/analysis/master_thesis/images')\n",
    "# plot_change(gdf, 'H_R_i', '/Users/nagampere/File/horkew/analysis/master_thesis/images')\n",
    "# plot_change(gdf, 'H_W_j', '/Users/nagampere/File/horkew/analysis/master_thesis/images')\n",
    "# plot_change(gdf, 'H_i', '/Users/nagampere/File/horkew/analysis/master_thesis/images')\n",
    "# plot_change(gdf, 'Y_j', '/Users/nagampere/File/horkew/analysis/master_thesis/images')\n",
    "# plot_change(gdf, 'q_ave_i', '/Users/nagampere/File/horkew/analysis/master_thesis/images')\n",
    "# plot_change(gdf, 'phi_i', '/Users/nagampere/File/horkew/analysis/master_thesis/images')"
   ]
  },
  {
   "cell_type": "code",
   "execution_count": null,
   "metadata": {},
   "outputs": [],
   "source": []
  }
 ],
 "metadata": {
  "kernelspec": {
   "display_name": ".venv",
   "language": "python",
   "name": "python3"
  },
  "language_info": {
   "codemirror_mode": {
    "name": "ipython",
    "version": 3
   },
   "file_extension": ".py",
   "mimetype": "text/x-python",
   "name": "python",
   "nbconvert_exporter": "python",
   "pygments_lexer": "ipython3",
   "version": "3.11.3"
  }
 },
 "nbformat": 4,
 "nbformat_minor": 2
}
