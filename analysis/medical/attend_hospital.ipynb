{
 "cells": [
  {
   "cell_type": "markdown",
   "metadata": {},
   "source": [
    "# 外部moduleと関数の読み込み"
   ]
  },
  {
   "cell_type": "code",
   "execution_count": 1,
   "metadata": {},
   "outputs": [],
   "source": [
    "import duckdb\n",
    "import io\n",
    "import zipfile\n",
    "import urllib.request\n",
    "import pandas as pd\n",
    "import geopandas as gpd\n",
    "from keplergl import KeplerGl\n",
    "con = duckdb.connect('/Users/nagampere/File/horkew/projects/tokyo2018/dbt/catalog.duckdb')"
   ]
  },
  {
   "cell_type": "code",
   "execution_count": 2,
   "metadata": {},
   "outputs": [],
   "source": [
    "def read_geojson(url:str)->gpd.GeoDataFrame():\n",
    "    req = urllib.request.Request(url)\n",
    "    with urllib.request.urlopen(req) as res:\n",
    "        data = res.read()\n",
    "    # データがzipファイルになっているので中身を抽出して変数に格納する\n",
    "    with zipfile.ZipFile(io.BytesIO(data), 'r') as zip_data:\n",
    "        filepath = [name for name in zip_data.namelist() if '.geojson' in name][0]\n",
    "        \n",
    "        with zip_data.open(filepath, 'r') as data:\n",
    "            shp = gpd.read_file(data)\n",
    "    return shp"
   ]
  },
  {
   "cell_type": "markdown",
   "metadata": {},
   "source": [
    "# 医療施設データとODデータの読み込み"
   ]
  },
  {
   "cell_type": "code",
   "execution_count": 3,
   "metadata": {},
   "outputs": [],
   "source": [
    "# 病院の地理データの読み込み\n",
    "gdf_ibaraki = read_geojson('https://nlftp.mlit.go.jp/ksj/gml/data/P04/P04-20/P04-20_08_GML.zip')\n",
    "gdf_saitama = read_geojson('https://nlftp.mlit.go.jp/ksj/gml/data/P04/P04-20/P04-20_11_GML.zip')\n",
    "gdf_chiba = read_geojson('https://nlftp.mlit.go.jp/ksj/gml/data/P04/P04-20/P04-20_12_GML.zip')\n",
    "gdf_tokyo = read_geojson('https://nlftp.mlit.go.jp/ksj/gml/data/P04/P04-20/P04-20_13_GML.zip')\n",
    "gdf_kanagawa = read_geojson('https://nlftp.mlit.go.jp/ksj/gml/data/P04/P04-20/P04-20_14_GML.zip')\n",
    "gdf_hospital = pd.concat([gdf_ibaraki,gdf_saitama,gdf_chiba,gdf_tokyo,gdf_kanagawa],ignore_index=True)\n",
    "gdf_hospital = gdf_hospital.rename(\n",
    "    columns={\n",
    "        \"P04_001\":\"医療機関分類\",\n",
    "        \"P04_002\":\"施設名称\",\n",
    "        \"P04_003\":\"所在地\",\n",
    "        \"P04_004\":\"診療科目１\",\n",
    "        \"P04_005\":\"診療科目２\",\n",
    "        \"P04_006\":\"診療科目３\",\n",
    "        \"P04_007\":\"開設者分類\",\n",
    "        \"P04_008\":\"病床数\",\n",
    "        \"P04_009\":\"救急告示病院\",\n",
    "        \"P04_010\":\"災害拠点病院\"\n",
    "    }\n",
    ")\n",
    "gdf_hospital[\"医療機関分類\"] = gdf_hospital[\"医療機関分類\"].replace({1:'病院',2:'診療所',3:'歯科診療所'})\n",
    "gdf_hospital[\"開設者分類\"] = gdf_hospital[\"開設者分類\"].replace({1:'国',2:'公的医療機関',3:'社会保険関係団体',4:'医療法人',5:'個人',6:'その他',9:'分析対象外'})\n",
    "gdf_hospital[\"救急告示病院\"] = gdf_hospital[\"救急告示病院\"].replace({1:'指定あり',9:'指定なし'})\n",
    "gdf_hospital[\"災害拠点病院\"] = gdf_hospital[\"災害拠点病院\"].replace({1:'基幹',2:'地域',9:'指定なし'})\n",
    "gdf_hospital[\"medical_facility_lat\"] = gdf_hospital[\"geometry\"].y\n",
    "gdf_hospital[\"medical_facility_lon\"] = gdf_hospital[\"geometry\"].x\n"
   ]
  },
  {
   "cell_type": "code",
   "execution_count": 4,
   "metadata": {},
   "outputs": [
    {
     "data": {
      "application/vnd.jupyter.widget-view+json": {
       "model_id": "06a05ff7bace4cbf8b62222bfe13c51c",
       "version_major": 2,
       "version_minor": 0
      },
      "text/plain": [
       "FloatProgress(value=0.0, layout=Layout(width='auto'), style=ProgressStyle(bar_color='black'))"
      ]
     },
     "metadata": {},
     "output_type": "display_data"
    }
   ],
   "source": [
    "# ODデータの読み込み\n",
    "df_ods = con.sql(\n",
    "    \"\"\"\n",
    "    select\n",
    "        *\n",
    "    from int_ods\n",
    "    \"\"\"\n",
    ").df()"
   ]
  },
  {
   "cell_type": "code",
   "execution_count": 5,
   "metadata": {},
   "outputs": [],
   "source": [
    "gdf_ods_origin = gpd.GeoDataFrame(df_ods,\n",
    "                                  geometry=gpd.points_from_xy(df_ods['origin_lon'],df_ods['origin_lat'],crs='EPSG:6668'))\n",
    "gdf_ods_destination = gpd.GeoDataFrame(df_ods,\n",
    "                                  geometry=gpd.points_from_xy(df_ods['destination_lon'],df_ods['destination_lat'],crs='EPSG:6668'))"
   ]
  },
  {
   "cell_type": "markdown",
   "metadata": {},
   "source": [
    "# 空間結合"
   ]
  },
  {
   "cell_type": "code",
   "execution_count": 6,
   "metadata": {},
   "outputs": [],
   "source": [
    "#CRSの変換\n",
    "gdf_hospital = gdf_hospital.to_crs(2451)\n",
    "gdf_ods_origin = gdf_ods_origin.to_crs(2451)\n",
    "gdf_ods_destination = gdf_ods_destination.to_crs(2451)"
   ]
  },
  {
   "cell_type": "code",
   "execution_count": 7,
   "metadata": {},
   "outputs": [],
   "source": [
    "gdf_ods_origin = gpd.sjoin_nearest(gdf_ods_origin,\n",
    "                                   gdf_hospital,\n",
    "                                   how='left',\n",
    "                                   max_distance=100)"
   ]
  },
  {
   "cell_type": "code",
   "execution_count": 8,
   "metadata": {},
   "outputs": [],
   "source": [
    "gdf_ods_destination = gpd.sjoin_nearest(gdf_ods_destination,\n",
    "                                        gdf_hospital,\n",
    "                                        how='left',\n",
    "                                        max_distance=100)"
   ]
  },
  {
   "cell_type": "markdown",
   "metadata": {},
   "source": [
    "# 通院目的の絞り込み"
   ]
  },
  {
   "cell_type": "code",
   "execution_count": 9,
   "metadata": {},
   "outputs": [],
   "source": [
    "gdf_ods_origin_hospital = gdf_ods_origin.query('purpose_origin == \"07通院・リハビリ\"')\n",
    "gdf_ods_destination_hospital = gdf_ods_destination.query('purpose_destination == \"07通院・リハビリ\"')"
   ]
  },
  {
   "cell_type": "code",
   "execution_count": 24,
   "metadata": {},
   "outputs": [],
   "source": [
    "gdf_ods_origin_hospital.to_csv('output/ods_from_hospital.csv', encoding='CP932',index=False)\n",
    "gdf_ods_destination_hospital.to_csv('output/ods_to_hospital.csv', encoding='CP932',index=False)\n",
    "gdf_hospital.to_csv('output/hospital.csv',encoding='CP932',index=False)\n",
    "gdf_ods_origin_hospital.to_csv('output/ods_from_hospital_UTF8.csv', index=False)\n",
    "gdf_ods_destination_hospital.to_csv('output/ods_to_hospital_UTF8.csv', index=False)\n",
    "gdf_hospital.to_csv('output/hospital_UTF8.csv', index=False)"
   ]
  },
  {
   "cell_type": "markdown",
   "metadata": {},
   "source": [
    "# 医療施設とODデータの可視化"
   ]
  },
  {
   "cell_type": "code",
   "execution_count": 15,
   "metadata": {},
   "outputs": [
    {
     "name": "stdout",
     "output_type": "stream",
     "text": [
      "User Guide: https://docs.kepler.gl/docs/keplergl-jupyter\n"
     ]
    },
    {
     "name": "stderr",
     "output_type": "stream",
     "text": [
      "/Users/nagampere/File/horkew/.venv/lib/python3.11/site-packages/jupyter_client/session.py:721: UserWarning: Message serialization failed with:\n",
      "Out of range float values are not JSON compliant\n",
      "Supporting this message is deprecated in jupyter-client 7, please make sure your message is JSON-compliant\n",
      "  content = self.pack(content)\n"
     ]
    },
    {
     "data": {
      "application/vnd.jupyter.widget-view+json": {
       "model_id": "b5d059455c824ebaa438c0c182347a93",
       "version_major": 2,
       "version_minor": 0
      },
      "text/plain": [
       "KeplerGl(config={'version': 'v1', 'config': {'visState': {'filters': [{'dataId': ['medical_facility'], 'id': '…"
      ]
     },
     "metadata": {},
     "output_type": "display_data"
    }
   ],
   "source": [
    "# load the config\n",
    "%run config_origin.py\n",
    "\n",
    "# set the config to kepler.gl\n",
    "map_origin = KeplerGl(\n",
    "    height=500,\n",
    "    data={\"medical_facility\": gdf_hospital, \"ods\": gdf_ods_origin_hospital},\n",
    "    config=config_origin\n",
    ")\n",
    "map_origin"
   ]
  },
  {
   "cell_type": "code",
   "execution_count": 25,
   "metadata": {},
   "outputs": [],
   "source": [
    "# save the config\n",
    "with open('config_origin.py', 'w') as f:\n",
    "   f.write('config_origin = {}'.format(map_origin.config))"
   ]
  },
  {
   "cell_type": "code",
   "execution_count": 26,
   "metadata": {},
   "outputs": [
    {
     "name": "stdout",
     "output_type": "stream",
     "text": [
      "Map saved to output/map_origin.html!\n"
     ]
    }
   ],
   "source": [
    "# save the map\n",
    "map_origin.save_to_html(file_name='output/map_origin.html')"
   ]
  },
  {
   "cell_type": "code",
   "execution_count": 19,
   "metadata": {},
   "outputs": [
    {
     "name": "stdout",
     "output_type": "stream",
     "text": [
      "User Guide: https://docs.kepler.gl/docs/keplergl-jupyter\n"
     ]
    },
    {
     "name": "stderr",
     "output_type": "stream",
     "text": [
      "/Users/nagampere/File/horkew/.venv/lib/python3.11/site-packages/jupyter_client/session.py:721: UserWarning: Message serialization failed with:\n",
      "Out of range float values are not JSON compliant\n",
      "Supporting this message is deprecated in jupyter-client 7, please make sure your message is JSON-compliant\n",
      "  content = self.pack(content)\n"
     ]
    },
    {
     "data": {
      "application/vnd.jupyter.widget-view+json": {
       "model_id": "6e7042db606446f49933a0f3deb48b5e",
       "version_major": 2,
       "version_minor": 0
      },
      "text/plain": [
       "KeplerGl(data={'medical_facility':       医療機関分類                 施設名称                所在地            診療科目１ 診療科目２…"
      ]
     },
     "metadata": {},
     "output_type": "display_data"
    }
   ],
   "source": [
    "\n",
    "map_destination = KeplerGl(\n",
    "    height=500,\n",
    "    data={\"medical_facility\": gdf_hospital, \"ods\": gdf_ods_destination_hospital}\n",
    "    # config=config_destination\n",
    ")\n",
    "map_destination"
   ]
  },
  {
   "cell_type": "code",
   "execution_count": 27,
   "metadata": {},
   "outputs": [],
   "source": [
    "# save the config\n",
    "# with open('config_destination.py', 'w') as f:\n",
    "#    f.write('config_destination = {}'.format(map_destination.config))"
   ]
  },
  {
   "cell_type": "code",
   "execution_count": 28,
   "metadata": {},
   "outputs": [
    {
     "name": "stdout",
     "output_type": "stream",
     "text": [
      "Map saved to output/map_destination.html!\n"
     ]
    }
   ],
   "source": [
    "# save the map\n",
    "map_destination.save_to_html(file_name='output/map_destination.html')"
   ]
  },
  {
   "cell_type": "code",
   "execution_count": null,
   "metadata": {},
   "outputs": [],
   "source": []
  }
 ],
 "metadata": {
  "kernelspec": {
   "display_name": ".venv",
   "language": "python",
   "name": "python3"
  },
  "language_info": {
   "codemirror_mode": {
    "name": "ipython",
    "version": 3
   },
   "file_extension": ".py",
   "mimetype": "text/x-python",
   "name": "python",
   "nbconvert_exporter": "python",
   "pygments_lexer": "ipython3",
   "version": "3.11.3"
  }
 },
 "nbformat": 4,
 "nbformat_minor": 2
}
